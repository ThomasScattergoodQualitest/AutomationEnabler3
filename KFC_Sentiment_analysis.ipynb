{
 "cells": [
  {
   "cell_type": "code",
   "execution_count": 1,
   "id": "872ecca7",
   "metadata": {},
   "outputs": [],
   "source": [
    "import nltk\n",
    "import csv\n",
    "from nltk.corpus import stopwords\n",
    "import string\n",
    "import spacy\n",
    "import matplotlib.pyplot as plt\n",
    "import numpy as np\n",
    "import re\n",
    "import pandas as pd\n",
    "from textblob import TextBlob"
   ]
  },
  {
   "cell_type": "code",
   "execution_count": 2,
   "id": "77bdbacf",
   "metadata": {},
   "outputs": [
    {
     "data": {
      "text/plain": [
       "{'a',\n",
       " 'about',\n",
       " 'above',\n",
       " 'after',\n",
       " 'again',\n",
       " 'against',\n",
       " 'ain',\n",
       " 'all',\n",
       " 'am',\n",
       " 'an',\n",
       " 'and',\n",
       " 'any',\n",
       " 'are',\n",
       " 'aren',\n",
       " \"aren't\",\n",
       " 'as',\n",
       " 'at',\n",
       " 'be',\n",
       " 'because',\n",
       " 'been',\n",
       " 'before',\n",
       " 'being',\n",
       " 'below',\n",
       " 'between',\n",
       " 'both',\n",
       " 'but',\n",
       " 'by',\n",
       " 'can',\n",
       " 'couldn',\n",
       " \"couldn't\",\n",
       " 'd',\n",
       " 'did',\n",
       " 'didn',\n",
       " \"didn't\",\n",
       " 'do',\n",
       " 'does',\n",
       " 'doesn',\n",
       " \"doesn't\",\n",
       " 'doing',\n",
       " 'don',\n",
       " \"don't\",\n",
       " 'down',\n",
       " 'during',\n",
       " 'each',\n",
       " 'few',\n",
       " 'for',\n",
       " 'from',\n",
       " 'further',\n",
       " 'had',\n",
       " 'hadn',\n",
       " \"hadn't\",\n",
       " 'has',\n",
       " 'hasn',\n",
       " \"hasn't\",\n",
       " 'have',\n",
       " 'haven',\n",
       " \"haven't\",\n",
       " 'having',\n",
       " 'he',\n",
       " 'her',\n",
       " 'here',\n",
       " 'hers',\n",
       " 'herself',\n",
       " 'him',\n",
       " 'himself',\n",
       " 'his',\n",
       " 'how',\n",
       " 'i',\n",
       " 'if',\n",
       " 'in',\n",
       " 'into',\n",
       " 'is',\n",
       " 'isn',\n",
       " \"isn't\",\n",
       " 'it',\n",
       " \"it's\",\n",
       " 'its',\n",
       " 'itself',\n",
       " 'just',\n",
       " 'll',\n",
       " 'm',\n",
       " 'ma',\n",
       " 'me',\n",
       " 'mightn',\n",
       " \"mightn't\",\n",
       " 'more',\n",
       " 'most',\n",
       " 'mustn',\n",
       " \"mustn't\",\n",
       " 'my',\n",
       " 'myself',\n",
       " 'needn',\n",
       " \"needn't\",\n",
       " 'no',\n",
       " 'nor',\n",
       " 'not',\n",
       " 'now',\n",
       " 'o',\n",
       " 'of',\n",
       " 'off',\n",
       " 'on',\n",
       " 'once',\n",
       " 'only',\n",
       " 'or',\n",
       " 'other',\n",
       " 'our',\n",
       " 'ours',\n",
       " 'ourselves',\n",
       " 'out',\n",
       " 'over',\n",
       " 'own',\n",
       " 're',\n",
       " 's',\n",
       " 'same',\n",
       " 'shan',\n",
       " \"shan't\",\n",
       " 'she',\n",
       " \"she's\",\n",
       " 'should',\n",
       " \"should've\",\n",
       " 'shouldn',\n",
       " \"shouldn't\",\n",
       " 'so',\n",
       " 'some',\n",
       " 'such',\n",
       " 't',\n",
       " 'than',\n",
       " 'that',\n",
       " \"that'll\",\n",
       " 'the',\n",
       " 'their',\n",
       " 'theirs',\n",
       " 'them',\n",
       " 'themselves',\n",
       " 'then',\n",
       " 'there',\n",
       " 'these',\n",
       " 'they',\n",
       " 'this',\n",
       " 'those',\n",
       " 'through',\n",
       " 'to',\n",
       " 'too',\n",
       " 'under',\n",
       " 'until',\n",
       " 'up',\n",
       " 've',\n",
       " 'very',\n",
       " 'was',\n",
       " 'wasn',\n",
       " \"wasn't\",\n",
       " 'we',\n",
       " 'were',\n",
       " 'weren',\n",
       " \"weren't\",\n",
       " 'what',\n",
       " 'when',\n",
       " 'where',\n",
       " 'which',\n",
       " 'while',\n",
       " 'who',\n",
       " 'whom',\n",
       " 'why',\n",
       " 'will',\n",
       " 'with',\n",
       " 'won',\n",
       " \"won't\",\n",
       " 'wouldn',\n",
       " \"wouldn't\",\n",
       " 'y',\n",
       " 'you',\n",
       " \"you'd\",\n",
       " \"you'll\",\n",
       " \"you're\",\n",
       " \"you've\",\n",
       " 'your',\n",
       " 'yours',\n",
       " 'yourself',\n",
       " 'yourselves'}"
      ]
     },
     "execution_count": 2,
     "metadata": {},
     "output_type": "execute_result"
    }
   ],
   "source": [
    "stop_words = set(stopwords.words(\"english\"))\n",
    "stop_words"
   ]
  },
  {
   "cell_type": "code",
   "execution_count": 3,
   "id": "567a91e8",
   "metadata": {},
   "outputs": [
    {
     "name": "stdout",
     "output_type": "stream",
     "text": [
      "['Review', 'Like', 'Haha', 'Angry', 'Date']\n",
      "['Absolutely terrible service never get anything you order food quality isn’t the best unfriendly staff wouldn’t recommend this place', '2', ' 0', ' 0', '10 hrs']\n",
      "[\"What a terrible store in Layton Utah. Ordered a meal on the KFC Website for delivery. Order arrived and left by door dash. Upon inspection I was missing an entire bucket of chicken! When I called the store they said they couldn't do much with online orders and sent me to a 800# where I was on hold for 13 minutes for a partial refund. What a joke.\", '0', ' 0', ' 0', '9 hrs']\n",
      "['I love working at KFC. Great employees and great customers. It’s a great place to work', '0', ' 0', ' 0', '26 December 2021 at 11:52']\n",
      "[\"the kfc in Winchester va on fox drive is the worst place I have ever tried to get food from. every time I go there they never have any food available and the workers have horrible customer service. I made an online order. I went and tried to pick up my order. they specifically said we don't have your order available cause we don't have any chicken in stock. and then the manager refuse to refund my money when they didn't even have any food!\", '0', ' 0', ' 0', '1 January at 16:13']\n",
      "['Their app is terrible their customer service is non-existent. They are only out for the money not to provide a decent meal! Called their 1 800 number no answer after waiting get sent to a voice mail Great Customer Service!', '1', ' 0', ' 0', '23 December 2021 at 08:56']\n",
      "['This is the most trashy KFC I’ve ever visited. Look at the pictures! The chicken is clearly burned. They-refuse to answer the phone. Please drive pass!', '0', ' 0', ' 0', '28 December 2021 at 19:36']\n",
      "['More KFC #reels #Viral #kfc #trending #tiktok', '0', ' 0', ' 0', '29 December 2021 at 15:38']\n",
      "[\"NASTY cold burnt chicken employees cant count to 8. slaw had hair in it. potatoes runny. Customer service doesn't care. shame WAS my favorite restaurant.\", '1', ' 0', ' 0', '24 December 2021 at 08:19']\n",
      "['Poor service overall ..poor work ethics...poor customer service.', '0', ' 0', ' 0', '23 December 2021 at 09:42']\n",
      "['Terrible customer service in Watertown NY. The doors are locked dispute the fact it states open. And the girl at the drive thru was unbelievably rude. After I placed my large order I Waited 15 minutes for my chicken. This was my last time there I won’t go back.', '2', ' 0', ' 0', '22 December 2021 at 12:36']\n",
      "['They are rude inaccurate and gave me the finger when I questioned their poor service', '2', ' 0', ' 0', '2 January at 17:11']\n",
      "['Horrible service I got the 12 piece chicken only to find out they put 9 pieces in my box . Got mashed potatoes and cold slaw they didn’t put the gravy in the box either. I was sooo excited about the new KFC coming to Gaston. Wow so disappointed!!!', '1', ' 0', ' 0', '17 hrs']\n",
      "['Terrible Service rude workers excruciatingly slow service. - Do yourself a favor & eat ANYWHERE else.', '2', ' 0', ' 0', '13h']\n",
      "['Really disappointed in the food I received today. I spent $48 and the chicken was dry and bland. The gravy had no taste to it the mashed potatoes and coleslaw was alright though. I wish I would have went to Popeyes instead. Overpriced and dry.\\nThis is for the Stratford CT location.', '2', ' 0', ' 0', '19 December 2021 at 10:41']\n",
      "[\"worst customer service in the food industry. no way to cancel orders on the app. no one to answer phones with customer service. employees are lazy and won't cook food. I will never go to another kfc\", '3', ' 0', ' 0', '26 December 2021 at 14:38']\n",
      "[\"place is a dump every location. they overstuffed a drive thru bag with an uncapped gravy that ended up exploding the bag and spilling on his lap and burning his leg and hands and because he said the f word one time the manager kicked him out. absolute cess pit I'll never visit another KFC as long as I live. me or my 7 family members that visited weekly.\", '1', ' 0', ' 0', '11 December 2021 at 16:35']\n",
      "['Ordered 2 dinners cost $23.00 I wanted 2 legs they were so small I didn’t even get filled up. Last time I will ever eat here.', '1', ' 0', ' 0', '17 December 2021 at 11:19']\n",
      "['Service is terrible with long wait times and half the menu is not available. Got 8 piece meal and chicken was under cooked', '0', ' 0', ' 0', '24 December 2021 at 13:46']\n",
      "['It takes 20 minutes to place an order and then you need to wait for it to pikes only has a staff of three and still takes forever. St.Croix usvi FREDERIKSTED kfc', '0', ' 0', ' 0', '26 December 2021 at 16:22']\n",
      "['Do not ever go to the Sebastian Florida location!!!! Gone there twice in the past two months. First time was told they didn’t have enough workers so they wouldn’t take my order and tonight I placed an order on the app for $50 and when I got there said they had no chicken or any KFC items only Taco Bell. Now I get to wait 3 days and pray I get my refund.', '0', ' 0', ' 0', '22 December 2021 at 11:15']\n",
      "[\"I preordered online and paid for $63 worth of chicken when we arrived at the store with our prepaid receipt they were told they did not have a order and would not honor our receipt even when we explained that we had the receive with their name their phone number their address for address for yesterday's date prepaid they absolutely refused to honor our order are ordered and we had no choice but to reproach the chicken as we had a huge family gathering for our and we gathering...\\nSee more\", '1', ' 0', ' 0', '17 December 2021 at 20:27']\n",
      "['I paid for a 2 piece white meal and tenders. I got 2 thighs and popcorn chicken. The drive thru was Ridiculous. The workers were too busy playing around.', '0', ' 0', ' 0', '2 January at 03:17']\n",
      "['Went to KFC on 521 ordered a 16 and they packed burnt chicken on top of the fresh chicken. Ordered two half gallon sweet teas and received one sweet one unsweetened like ugh called the store and the manager had an attitude so I hung up wasn’t in the mood to argue or listen to her staff lie in the background.', '1', ' 0', ' 0', '21 December 2021 at 16:16']\n",
      "[\"Absolutely the worst place in Batesville to eat! Half the time they don't even have what's on the menu! They close early open late and only offer parts of the menu! And when you pay for a pick up and arrive to pick it up the doors are locked and they won't answer. You call no answer! I will not be eating here ever again!\", '2', ' 0', ' 0', '8 December 2021 at 13:14']\n",
      "['Greasy slop. Tried it 3 times over 6 months. Tossed in trash. The chicken used to be quite good now just slop. Kept hoping it was just bad employee. Just a bad company.', '1', ' 0', ' 0', '15 December 2021 at 10:17']\n",
      "['Probably the worst KFC in the state of Georgia. What does this location have. No Hot sauce NO GRAVY! NO Chicken little Buns. YOU MIGHT AS WELL CLOSE THE LOCATION DOWN. Absolute TRASH\\nSuwanee Georgia', '1', ' 0', ' 0', '1 January at 15:56']\n",
      "['This is what I got in my wings and threw the whole $50 order in the garbage bc everything is fried together! Will never go back after this. I posted to messenger and they didn’t respond. I posted to their site and no response. I posted everywhere you can connect with KFC and not a word!', '1', ' 0', ' 0', '27 December 2021 at 17:40']\n",
      "[\"about to post a video of the trash person that was behind the counter. very poor representation of KFC. I reached out to customer service to file a complaint. they don't care\", '2', ' 0', ' 0', '10 December 2021 at 20:29']\n",
      "[\"Ordered online for delivery. Order was missing both 1/2 gallon drinks. Contacted the online assistance since store wouldn't awnser the phone. Was informed they allow would refund no send missing items\", '1', ' 0', ' 0', '2 December 2021']\n",
      "['Well the food I received yesterday looked & taste funny! I didn’t taste the chicken It looked like they refried It 10 times. The fries tasted like they were fried In a toilet bowl. Tenders were hard as hell. I feed this to a dog! It was soooo nasty. I didn’t eat It. Garbage and waste of money!', '2', ' 0', ' 0', '8 December 2021 at 15:21']\n",
      "['Last night my family ordered KFC for dinner. Half of our meal was missing when we got home. We tried to call but after 8-10 phone calls we still did not receive an answer. It is absolutely unacceptable.', '1', ' 0', ' 0', '3 December 2021']\n",
      "[\"KFC Armory Dr Franklin VA\\nThe worst customer service I've ever experienced in any type of business. Incompetent rude slow and lazy.\", '0', ' 0', ' 0', '10 December 2021 at 18:55']\n",
      "['Order was wrong 3 time gave up rude staff', '1', ' 0', ' 0', '2 January at 17:24']\n",
      "['KFC in my town is awful. They don’t put the order in right won’t take incorrect drinks back and won’t make the order right either. I paid $20 and only got half the food I was supposed to. I doubt I ever get a refund but I can promise I never go back and tell everyone I know how bad this company is.', '1', ' 0', ' 0', '2 December 2021']\n",
      "['My family and I ordered food at the drive thru. The employee that was taking the order let us know that it was going to take 15 minutes for our fish order and we could wait if we wanted. We said yes and waited longer than 15 minutes. When my husband went up to the door to look in he noticed at least two of the employees sitting on the counter. The reason the fish was going to take 15 minutes was so these “employees” could take a 15 minute break! The only reason they removed themselves from the counter was because a customer came inside to order! We don’t get this food often but now it will be even less as in not at all!', '0', ' 0', ' 0', '4 December 2021 at 13:31']\n",
      "['Absolutely disgusting chicken wasn’t even edible! We had to wait 45 minutes just to get the food and it was cold old and nasty! New Boston Ohio', '2', ' 0', ' 0', '21 December 2021 at 14:19']\n",
      "[\"they are very rude when asked if they had any sweet tea in the back the cashier said um I don't know so when asked for a refund on my large drink the manager stepped in an said it will take a minute to make it I told her I just want a refund for my large drink so she asked me for my ticket and my change back so I handed it to her and my food came to the counter and the manager said never mind she doesn't want it anymore and I told her I wanted my food but a refund on my drink and her assistant manager stepped in and said if they refund my drink I would pay 6.00 more for my food poor management and poor customer service never going back\", '2', ' 0', ' 0', '5 December 2021 at 10:28']\n",
      "['This review is for the Main Street location in Lexington NC\\nI ordered the 8 piece tenders with sides.\\nService was fine but the chicken tenders were barley warm dry and rubbery.\\nThe other sides were fine.\\nToo much money for chicken that bad.', '1', ' 0', ' 0', '29 November 2021']\n",
      "[\"Cashier wasn't friendly at all during my ordering process I proceeded to order 4 chicken tender meals  I asked for the tenders to be cooked fresh and I didn't mind waiting the cashier ask me to pull in the parking lot to wait for my order I proceeded\\nto park right in front the window so I could see the cashier in the puw I noticed that he was making my fountain drinks he took one of my drinks and drank some out of the cup and hunched his shoulders place the lid on the cup ...\\nSee more\", '1', ' 1', ' 1', '2 December 2021']\n",
      "['Ethan was so polite and was a extremely friendly cashier. You need more like him', '0', ' 0', ' 0', '3 December 2021']\n",
      "['I really love KFC but the customer service is Terrible. I had to wait because there was only one person working the register. The young lady finally comes to the register and is just standing there. I said “Oh are you ready to take my order?” No greeting… or any thing…ok. So she takes the order and a few minutes later tell me they are out of wings and breast. I’m like ok. Again she is just standing there. I ask her to give me a refund. She looks indignant and get...\\nSee more', '2', ' 0', ' 0', '29 November 2021']\n",
      "['I spent $50 on food only to get home with items missing wrong kind of chicken and was greasy/slimy! There was half an inch of grease in the bottom of the bucket. Now I know how to cook and know chicken is fried but come on I called KFC here in Pikeville KY and was told they would refund half my money I even asked her you are going to refund half my money? She said yes. So I’ll admit it was at least a week an a half but made the trip there ( I live about 25 min away) a...\\nSee more', '1', ' 0', ' 0', '26 December 2021 at 13:42']\n"
     ]
    }
   ],
   "source": [
    "comments = []\n",
    "with open (\"KFCReviews.csv\", \"r\", encoding='utf-8') as file:\n",
    "    reader = csv.reader(file)\n",
    "    for row in reader:\n",
    "        comments.append(row)\n",
    "        print (row)"
   ]
  },
  {
   "cell_type": "code",
   "execution_count": 4,
   "id": "1ec258a6",
   "metadata": {},
   "outputs": [
    {
     "data": {
      "text/plain": [
       "\"what a terrible store in layton utah. ordered a meal on the kfc website for delivery. order arrived and left by door dash. upon inspection i was missing an entire bucket of chicken! when i called the store they said they couldn't do much with online orders and sent me to a 800# where i was on hold for 13 minutes for a partial refund. what a joke.\""
      ]
     },
     "execution_count": 4,
     "metadata": {},
     "output_type": "execute_result"
    }
   ],
   "source": [
    "comments[2][0].lower()"
   ]
  },
  {
   "cell_type": "code",
   "execution_count": 5,
   "id": "c9a7adf7",
   "metadata": {},
   "outputs": [
    {
     "name": "stdout",
     "output_type": "stream",
     "text": [
      "-0.2642857142857143\n"
     ]
    }
   ],
   "source": [
    "blob = TextBlob(comments[2][0])\n",
    "sentiment = blob.sentiment.polarity\n",
    "print (sentiment)"
   ]
  },
  {
   "cell_type": "code",
   "execution_count": 6,
   "id": "c8739df1",
   "metadata": {},
   "outputs": [],
   "source": [
    "polarities = []\n",
    "subjectivities = []\n",
    "for doc in comments: \n",
    "    blob = TextBlob(doc[0])\n",
    "    polarity = blob.sentiment.polarity\n",
    "    subjectivity = blob.sentiment.subjectivity\n",
    "    polarities.append(polarity)\n",
    "    subjectivities.append(subjectivity)"
   ]
  },
  {
   "cell_type": "code",
   "execution_count": 7,
   "id": "9e821bf3",
   "metadata": {},
   "outputs": [
    {
     "data": {
      "text/plain": [
       "<function matplotlib.pyplot.show(close=None, block=None)>"
      ]
     },
     "execution_count": 7,
     "metadata": {},
     "output_type": "execute_result"
    },
    {
     "data": {
      "image/png": "[encoded data removed]",
      "text/plain": [
       "<Figure size 432x288 with 1 Axes>"
      ]
     },
     "metadata": {
      "needs_background": "light"
     },
     "output_type": "display_data"
    }
   ],
   "source": [
    "plt.scatter (polarities, subjectivities)\n",
    "plt.xlabel (\"polarities\")\n",
    "plt.ylabel (\"subjectivities\")\n",
    "plt.title (\"subjectivities as a function of polarities of KFC reviews\")\n",
    "plt.show"
   ]
  },
  {
   "cell_type": "code",
   "execution_count": 8,
   "id": "51941d97",
   "metadata": {},
   "outputs": [
    {
     "name": "stdout",
     "output_type": "stream",
     "text": [
      "\n",
      "\n"
     ]
    },
    {
     "ename": "TypeError",
     "evalue": "'float' object is not callable",
     "output_type": "error",
     "traceback": [
      "\u001b[1;31m---------------------------------------------------------------------------\u001b[0m",
      "\u001b[1;31mTypeError\u001b[0m                                 Traceback (most recent call last)",
      "\u001b[1;32mC:\\Users\\THOMAS~1.SCA\\AppData\\Local\\Temp/ipykernel_13208/3343587184.py\u001b[0m in \u001b[0;36m<module>\u001b[1;34m\u001b[0m\n\u001b[0;32m      1\u001b[0m \u001b[1;32mfor\u001b[0m \u001b[0mreview\u001b[0m \u001b[1;32min\u001b[0m \u001b[0mcomments\u001b[0m\u001b[1;33m:\u001b[0m\u001b[1;33m\u001b[0m\u001b[1;33m\u001b[0m\u001b[0m\n\u001b[0;32m      2\u001b[0m     \u001b[0mprint\u001b[0m \u001b[1;33m(\u001b[0m\u001b[1;34m\"\\n\"\u001b[0m\u001b[1;33m)\u001b[0m\u001b[1;33m\u001b[0m\u001b[1;33m\u001b[0m\u001b[0m\n\u001b[1;32m----> 3\u001b[1;33m     \u001b[0mprint\u001b[0m \u001b[1;33m(\u001b[0m\u001b[0mnp\u001b[0m\u001b[1;33m.\u001b[0m\u001b[0maverage\u001b[0m\u001b[1;33m(\u001b[0m\u001b[0msentiment\u001b[0m\u001b[1;33m(\u001b[0m\u001b[0mstr\u001b[0m\u001b[1;33m(\u001b[0m\u001b[0mreview\u001b[0m\u001b[1;33m[\u001b[0m\u001b[1;36m0\u001b[0m\u001b[1;33m]\u001b[0m\u001b[1;33m)\u001b[0m\u001b[1;33m)\u001b[0m\u001b[1;33m)\u001b[0m\u001b[1;33m)\u001b[0m\u001b[1;33m\u001b[0m\u001b[1;33m\u001b[0m\u001b[0m\n\u001b[0m\u001b[0;32m      4\u001b[0m     \u001b[0mprint\u001b[0m\u001b[1;33m(\u001b[0m\u001b[0mreview\u001b[0m\u001b[1;33m[\u001b[0m\u001b[1;36m0\u001b[0m\u001b[1;33m]\u001b[0m\u001b[1;33m)\u001b[0m\u001b[1;33m\u001b[0m\u001b[1;33m\u001b[0m\u001b[0m\n",
      "\u001b[1;31mTypeError\u001b[0m: 'float' object is not callable"
     ]
    }
   ],
   "source": [
    "for review in comments:\n",
    "    print (\"\\n\")\n",
    "    print (np.average(sentiment(str(review[0]))))\n",
    "    print(review[0])"
   ]
  }
 ],
 "metadata": {
  "kernelspec": {
   "display_name": "Python 3 (ipykernel)",
   "language": "python",
   "name": "python3"
  },
  "language_info": {
   "codemirror_mode": {
    "name": "ipython",
    "version": 3
   },
   "file_extension": ".py",
   "mimetype": "text/x-python",
   "name": "python",
   "nbconvert_exporter": "python",
   "pygments_lexer": "ipython3",
   "version": "3.9.7"
  }
 },
 "nbformat": 4,
 "nbformat_minor": 5
}
