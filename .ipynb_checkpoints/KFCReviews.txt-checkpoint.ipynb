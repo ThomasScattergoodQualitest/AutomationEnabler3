{
 "cells": [
  {
   "cell_type": "code",
   "execution_count": 3,
   "id": "bf60fcc2",
   "metadata": {},
   "outputs": [],
   "source": [
    "import nltk\n",
    "import csv\n",
    "from nltk.corpus import stopwords\n",
    "import numpy as np"
   ]
  },
  {
   "cell_type": "code",
   "execution_count": 23,
   "id": "ea00c4a3",
   "metadata": {},
   "outputs": [],
   "source": [
    "stop_words = set(stopwords.words(\"english\"))"
   ]
  },
  {
   "cell_type": "code",
   "execution_count": 39,
   "id": "bf8edd9f",
   "metadata": {},
   "outputs": [],
   "source": [
    "wnlem = nltk.WordNetLemmatizer()"
   ]
  },
  {
   "cell_type": "code",
   "execution_count": 26,
   "id": "8b6780bf",
   "metadata": {},
   "outputs": [],
   "source": [
    "kfc_text = open (\"KFCReviews.txt\")"
   ]
  },
  {
   "cell_type": "code",
   "execution_count": 27,
   "id": "0b2db813",
   "metadata": {},
   "outputs": [],
   "source": [
    "kfc = kfc_text.read()"
   ]
  },
  {
   "cell_type": "code",
   "execution_count": 28,
   "id": "d813be6c",
   "metadata": {},
   "outputs": [
    {
     "data": {
      "text/plain": [
       "\"11 December at 16:35\\nworst customer service in the food industry. no way to cancel orders on the app. no one to answer phones with customer service. employees are lazy and won't cook food. I will never go to another kfc\\n1 Like\\n8 December at 13:14\\nWent to KFC on 521 ordered a 16 and they packed burnt chicken on top of the fresh chicken. Ordered two half gallon sweet teas and received one sweet one unsweetened like ugh, called the store and the manager had an attitude so I hung up wasnâ€™t in the mood to argue or listen to her staff lie in the background.\\n\\n10 December at 20:29\\nThis is what I got in my wings and threw the whole $50 order in the garbage bc everything is fried together! Will never go back after this. I posted to messenger and they didnâ€™t respond. I posted to their site and no response. I posted everywhere you can connect with KFC and not a word!\\n1 Like\\n\""
      ]
     },
     "execution_count": 28,
     "metadata": {},
     "output_type": "execute_result"
    }
   ],
   "source": [
    "kfc"
   ]
  },
  {
   "cell_type": "code",
   "execution_count": 29,
   "id": "f5f60880",
   "metadata": {},
   "outputs": [],
   "source": [
    "kfc_token = nltk.word_tokenize(kfc)"
   ]
  },
  {
   "cell_type": "code",
   "execution_count": 31,
   "id": "cb9b8ff4",
   "metadata": {},
   "outputs": [
    {
     "data": {
      "text/plain": [
       "['11',\n",
       " 'December',\n",
       " 'at',\n",
       " '16:35',\n",
       " 'worst',\n",
       " 'customer',\n",
       " 'service',\n",
       " 'in',\n",
       " 'the',\n",
       " 'food',\n",
       " 'industry',\n",
       " '.',\n",
       " 'no',\n",
       " 'way',\n",
       " 'to',\n",
       " 'cancel',\n",
       " 'orders',\n",
       " 'on',\n",
       " 'the',\n",
       " 'app',\n",
       " '.',\n",
       " 'no',\n",
       " 'one',\n",
       " 'to',\n",
       " 'answer',\n",
       " 'phones',\n",
       " 'with',\n",
       " 'customer',\n",
       " 'service',\n",
       " '.',\n",
       " 'employees',\n",
       " 'are',\n",
       " 'lazy',\n",
       " 'and',\n",
       " 'wo',\n",
       " \"n't\",\n",
       " 'cook',\n",
       " 'food',\n",
       " '.',\n",
       " 'I',\n",
       " 'will',\n",
       " 'never',\n",
       " 'go',\n",
       " 'to',\n",
       " 'another',\n",
       " 'kfc',\n",
       " '1',\n",
       " 'Like',\n",
       " '8',\n",
       " 'December',\n",
       " 'at',\n",
       " '13:14',\n",
       " 'Went',\n",
       " 'to',\n",
       " 'KFC',\n",
       " 'on',\n",
       " '521',\n",
       " 'ordered',\n",
       " 'a',\n",
       " '16',\n",
       " 'and',\n",
       " 'they',\n",
       " 'packed',\n",
       " 'burnt',\n",
       " 'chicken',\n",
       " 'on',\n",
       " 'top',\n",
       " 'of',\n",
       " 'the',\n",
       " 'fresh',\n",
       " 'chicken',\n",
       " '.',\n",
       " 'Ordered',\n",
       " 'two',\n",
       " 'half',\n",
       " 'gallon',\n",
       " 'sweet',\n",
       " 'teas',\n",
       " 'and',\n",
       " 'received',\n",
       " 'one',\n",
       " 'sweet',\n",
       " 'one',\n",
       " 'unsweetened',\n",
       " 'like',\n",
       " 'ugh',\n",
       " ',',\n",
       " 'called',\n",
       " 'the',\n",
       " 'store',\n",
       " 'and',\n",
       " 'the',\n",
       " 'manager',\n",
       " 'had',\n",
       " 'an',\n",
       " 'attitude',\n",
       " 'so',\n",
       " 'I',\n",
       " 'hung',\n",
       " 'up',\n",
       " 'wasnâ€™t',\n",
       " 'in',\n",
       " 'the',\n",
       " 'mood',\n",
       " 'to',\n",
       " 'argue',\n",
       " 'or',\n",
       " 'listen',\n",
       " 'to',\n",
       " 'her',\n",
       " 'staff',\n",
       " 'lie',\n",
       " 'in',\n",
       " 'the',\n",
       " 'background',\n",
       " '.',\n",
       " '10',\n",
       " 'December',\n",
       " 'at',\n",
       " '20:29',\n",
       " 'This',\n",
       " 'is',\n",
       " 'what',\n",
       " 'I',\n",
       " 'got',\n",
       " 'in',\n",
       " 'my',\n",
       " 'wings',\n",
       " 'and',\n",
       " 'threw',\n",
       " 'the',\n",
       " 'whole',\n",
       " '$',\n",
       " '50',\n",
       " 'order',\n",
       " 'in',\n",
       " 'the',\n",
       " 'garbage',\n",
       " 'bc',\n",
       " 'everything',\n",
       " 'is',\n",
       " 'fried',\n",
       " 'together',\n",
       " '!',\n",
       " 'Will',\n",
       " 'never',\n",
       " 'go',\n",
       " 'back',\n",
       " 'after',\n",
       " 'this',\n",
       " '.',\n",
       " 'I',\n",
       " 'posted',\n",
       " 'to',\n",
       " 'messenger',\n",
       " 'and',\n",
       " 'they',\n",
       " 'didnâ€™t',\n",
       " 'respond',\n",
       " '.',\n",
       " 'I',\n",
       " 'posted',\n",
       " 'to',\n",
       " 'their',\n",
       " 'site',\n",
       " 'and',\n",
       " 'no',\n",
       " 'response',\n",
       " '.',\n",
       " 'I',\n",
       " 'posted',\n",
       " 'everywhere',\n",
       " 'you',\n",
       " 'can',\n",
       " 'connect',\n",
       " 'with',\n",
       " 'KFC',\n",
       " 'and',\n",
       " 'not',\n",
       " 'a',\n",
       " 'word',\n",
       " '!',\n",
       " '1',\n",
       " 'Like']"
      ]
     },
     "execution_count": 31,
     "metadata": {},
     "output_type": "execute_result"
    }
   ],
   "source": [
    "kfc_token"
   ]
  },
  {
   "cell_type": "code",
   "execution_count": 32,
   "id": "a5b7aae4",
   "metadata": {},
   "outputs": [],
   "source": [
    "norm = [word.lower()for word in kfc_token if word.isalpha()]"
   ]
  },
  {
   "cell_type": "code",
   "execution_count": 33,
   "id": "d6a2aa5d",
   "metadata": {},
   "outputs": [],
   "source": [
    "norm_fd = nltk.FreqDist(norm)"
   ]
  },
  {
   "cell_type": "code",
   "execution_count": 34,
   "id": "678610d7",
   "metadata": {},
   "outputs": [
    {
     "data": {
      "text/plain": [
       "FreqDist({'the': 9, 'to': 8, 'and': 8, 'i': 6, 'in': 5, 'december': 3, 'at': 3, 'no': 3, 'on': 3, 'one': 3, ...})"
      ]
     },
     "execution_count": 34,
     "metadata": {},
     "output_type": "execute_result"
    }
   ],
   "source": [
    "norm_fd"
   ]
  },
  {
   "cell_type": "code",
   "execution_count": 48,
   "id": "531249a0",
   "metadata": {},
   "outputs": [],
   "source": [
    "filtered_words = [word for word in norm if word not in stop_words]"
   ]
  },
  {
   "cell_type": "code",
   "execution_count": 49,
   "id": "6d0d15f3",
   "metadata": {},
   "outputs": [
    {
     "data": {
      "text/plain": [
       "['december',\n",
       " 'worst',\n",
       " 'customer',\n",
       " 'service',\n",
       " 'food',\n",
       " 'industry',\n",
       " 'way',\n",
       " 'cancel',\n",
       " 'orders',\n",
       " 'app',\n",
       " 'one',\n",
       " 'answer',\n",
       " 'phones',\n",
       " 'customer',\n",
       " 'service',\n",
       " 'employees',\n",
       " 'lazy',\n",
       " 'wo',\n",
       " 'cook',\n",
       " 'food',\n",
       " 'never',\n",
       " 'go',\n",
       " 'another',\n",
       " 'kfc',\n",
       " 'like',\n",
       " 'december',\n",
       " 'went',\n",
       " 'kfc',\n",
       " 'ordered',\n",
       " 'packed',\n",
       " 'burnt',\n",
       " 'chicken',\n",
       " 'top',\n",
       " 'fresh',\n",
       " 'chicken',\n",
       " 'ordered',\n",
       " 'two',\n",
       " 'half',\n",
       " 'gallon',\n",
       " 'sweet',\n",
       " 'teas',\n",
       " 'received',\n",
       " 'one',\n",
       " 'sweet',\n",
       " 'one',\n",
       " 'unsweetened',\n",
       " 'like',\n",
       " 'ugh',\n",
       " 'called',\n",
       " 'store',\n",
       " 'manager',\n",
       " 'attitude',\n",
       " 'hung',\n",
       " 'mood',\n",
       " 'argue',\n",
       " 'listen',\n",
       " 'staff',\n",
       " 'lie',\n",
       " 'background',\n",
       " 'december',\n",
       " 'got',\n",
       " 'wings',\n",
       " 'threw',\n",
       " 'whole',\n",
       " 'order',\n",
       " 'garbage',\n",
       " 'bc',\n",
       " 'everything',\n",
       " 'fried',\n",
       " 'together',\n",
       " 'never',\n",
       " 'go',\n",
       " 'back',\n",
       " 'posted',\n",
       " 'messenger',\n",
       " 'respond',\n",
       " 'posted',\n",
       " 'site',\n",
       " 'response',\n",
       " 'posted',\n",
       " 'everywhere',\n",
       " 'connect',\n",
       " 'kfc',\n",
       " 'word',\n",
       " 'like']"
      ]
     },
     "execution_count": 49,
     "metadata": {},
     "output_type": "execute_result"
    }
   ],
   "source": [
    "filtered_words"
   ]
  },
  {
   "cell_type": "code",
   "execution_count": 50,
   "id": "80cea33b",
   "metadata": {},
   "outputs": [],
   "source": [
    "fw_fd = nltk.FreqDist(filtered_words) "
   ]
  },
  {
   "cell_type": "code",
   "execution_count": 51,
   "id": "3e3a4152",
   "metadata": {},
   "outputs": [
    {
     "data": {
      "text/plain": [
       "FreqDist({'december': 3, 'one': 3, 'kfc': 3, 'like': 3, 'posted': 3, 'customer': 2, 'service': 2, 'food': 2, 'never': 2, 'go': 2, ...})"
      ]
     },
     "execution_count": 51,
     "metadata": {},
     "output_type": "execute_result"
    }
   ],
   "source": [
    "fw_fd"
   ]
  },
  {
   "cell_type": "code",
   "execution_count": 55,
   "id": "88b87270",
   "metadata": {},
   "outputs": [
    {
     "data": {
      "image/png": "[encoded data removed]",
      "text/plain": [
       "<Figure size 432x288 with 1 Axes>"
      ]
     },
     "metadata": {
      "needs_background": "light"
     },
     "output_type": "display_data"
    },
    {
     "data": {
      "text/plain": [
       "<AxesSubplot:xlabel='Samples', ylabel='Counts'>"
      ]
     },
     "execution_count": 55,
     "metadata": {},
     "output_type": "execute_result"
    }
   ],
   "source": [
    "fw_fd.plot(25, cumulative=False)"
   ]
  },
  {
   "cell_type": "code",
   "execution_count": null,
   "id": "74d541be",
   "metadata": {},
   "outputs": [],
   "source": []
  }
 ],
 "metadata": {
  "kernelspec": {
   "display_name": "Python 3 (ipykernel)",
   "language": "python",
   "name": "python3"
  },
  "language_info": {
   "codemirror_mode": {
    "name": "ipython",
    "version": 3
   },
   "file_extension": ".py",
   "mimetype": "text/x-python",
   "name": "python",
   "nbconvert_exporter": "python",
   "pygments_lexer": "ipython3",
   "version": "3.9.7"
  }
 },
 "nbformat": 4,
 "nbformat_minor": 5
}
