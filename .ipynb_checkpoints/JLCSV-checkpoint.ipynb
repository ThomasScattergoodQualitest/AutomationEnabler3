{
 "cells": [
  {
   "cell_type": "code",
   "execution_count": 1,
   "id": "76076424",
   "metadata": {},
   "outputs": [],
   "source": [
    "import nltk\n",
    "import numpy as np\n",
    "import csv\n",
    "import pandas as pd\n",
    "import seaborn as sns\n",
    "from sklearn import preprocessing\n",
    "from sklearn.feature_extraction.text import CountVectorizer, TfidfVectorizer\n",
    "from sklearn.model_selection import train_test_split, KFold\n",
    "from nltk.corpus import stopwords\n",
    "from nltk.stem.snowball import SnowballStemmer\n",
    "import matplotlib\n",
    "from textblob import TextBlob\n",
    "from matplotlib import pyplot as plt\n",
    "import matplotlib.pyplot as plt\n",
    "import re\n",
    "from dateutil import parser\n",
    "import dataparser\n",
    "import datetime\n",
    "from datetime import datetime\n",
    "from dateutil.relativedelta import relativedelta\n",
    "# import seaborn as sns\n",
    "%matplotlib inline\n",
    "%config InlineBackend.figure_format = 'retina'"
   ]
  },
  {
   "cell_type": "code",
   "execution_count": 2,
   "id": "cccea049",
   "metadata": {},
   "outputs": [],
   "source": [
    "contractions = { \n",
    "\"ain't\": \"am not / are not / is not / has not / have not\",\n",
    "\"aren't\": \"are not / am not\",\n",
    "\"can't\": \"cannot\",\n",
    "\"can't've\": \"cannot have\",\n",
    "\"'cause\": \"because\",\n",
    "\"could've\": \"could have\",\n",
    "\"couldn't\": \"could not\",\n",
    "\"couldn't've\": \"could not have\",\n",
    "\"didn't\": \"did not\",\n",
    "\"doesn't\": \"does not\",\n",
    "\"don't\": \"do not\",\n",
    "\"hadn't\": \"had not\",\n",
    "\"hadn't've\": \"had not have\",\n",
    "\"hasn't\": \"has not\",\n",
    "\"haven't\": \"have not\",\n",
    "\"he'd\": \"he had / he would\",\n",
    "\"he'd've\": \"he would have\",\n",
    "\"he'll\": \"he shall / he will\",\n",
    "\"he'll've\": \"he shall have / he will have\",\n",
    "\"he's\": \"he has / he is\",\n",
    "\"how'd\": \"how did\",\n",
    "\"how'd'y\": \"how do you\",\n",
    "\"how'll\": \"how will\",\n",
    "\"how's\": \"how has / how is / how does\",\n",
    "\"I'd\": \"I had / I would\",\n",
    "\"I'd've\": \"I would have\",\n",
    "\"I'll\": \"I shall / I will\",\n",
    "\"I'll've\": \"I shall have / I will have\",\n",
    "\"I'm\": \"I am\",\n",
    "\"I've\": \"I have\",\n",
    "\"isn't\": \"is not\",\n",
    "\"it'd\": \"it had / it would\",\n",
    "\"it'd've\": \"it would have\",\n",
    "\"it'll\": \"it shall / it will\",\n",
    "\"it'll've\": \"it shall have / it will have\",\n",
    "\"it's\": \"it has / it is\",\n",
    "\"let's\": \"let us\",\n",
    "\"ma'am\": \"madam\",\n",
    "\"mayn't\": \"may not\",\n",
    "\"might've\": \"might have\",\n",
    "\"mightn't\": \"might not\",\n",
    "\"mightn't've\": \"might not have\",\n",
    "\"must've\": \"must have\",\n",
    "\"mustn't\": \"must not\",\n",
    "\"mustn't've\": \"must not have\",\n",
    "\"needn't\": \"need not\",\n",
    "\"needn't've\": \"need not have\",\n",
    "\"o'clock\": \"of the clock\",\n",
    "\"oughtn't\": \"ought not\",\n",
    "\"oughtn't've\": \"ought not have\",\n",
    "\"shan't\": \"shall not\",\n",
    "\"sha'n't\": \"shall not\",\n",
    "\"shan't've\": \"shall not have\",\n",
    "\"she'd\": \"she had / she would\",\n",
    "\"she'd've\": \"she would have\",\n",
    "\"she'll\": \"she shall / she will\",\n",
    "\"she'll've\": \"she shall have / she will have\",\n",
    "\"she's\": \"she has / she is\",\n",
    "\"should've\": \"should have\",\n",
    "\"shouldn't\": \"should not\",\n",
    "\"shouldn't've\": \"should not have\",\n",
    "\"so've\": \"so have\",\n",
    "\"so's\": \"so as / so is\",\n",
    "\"that'd\": \"that would / that had\",\n",
    "\"that'd've\": \"that would have\",\n",
    "\"that's\": \"that has / that is\",\n",
    "\"there'd\": \"there had / there would\",\n",
    "\"there'd've\": \"there would have\",\n",
    "\"there's\": \"there has / there is\",\n",
    "\"they'd\": \"they had / they would\",\n",
    "\"they'd've\": \"they would have\",\n",
    "\"they'll\": \"they shall / they will\",\n",
    "\"they'll've\": \"they shall have / they will have\",\n",
    "\"they're\": \"they are\",\n",
    "\"they've\": \"they have\",\n",
    "\"to've\": \"to have\",\n",
    "\"wasn't\": \"was not\",\n",
    "\"we'd\": \"we had / we would\",\n",
    "\"we'd've\": \"we would have\",\n",
    "\"we'll\": \"we will\",\n",
    "\"we'll've\": \"we will have\",\n",
    "\"we're\": \"we are\",\n",
    "\"we've\": \"we have\",\n",
    "\"weren't\": \"were not\",\n",
    "\"what'll\": \"what shall / what will\",\n",
    "\"what'll've\": \"what shall have / what will have\",\n",
    "\"what're\": \"what are\",\n",
    "\"what's\": \"what has / what is\",\n",
    "\"what've\": \"what have\",\n",
    "\"when's\": \"when has / when is\",\n",
    "\"when've\": \"when have\",\n",
    "\"where'd\": \"where did\",\n",
    "\"where's\": \"where has / where is\",\n",
    "\"where've\": \"where have\",\n",
    "\"who'll\": \"who shall / who will\",\n",
    "\"who'll've\": \"who shall have / who will have\",\n",
    "\"who's\": \"who has / who is\",\n",
    "\"who've\": \"who have\",\n",
    "\"why's\": \"why has / why is\",\n",
    "\"why've\": \"why have\",\n",
    "\"will've\": \"will have\",\n",
    "\"won't\": \"will not\",\n",
    "\"won't've\": \"will not have\",\n",
    "\"would've\": \"would have\",\n",
    "\"wouldn't\": \"would not\",\n",
    "\"wouldn't've\": \"would not have\",\n",
    "\"y'all\": \"you all\",\n",
    "\"y'all'd\": \"you all would\",\n",
    "\"y'all'd've\": \"you all would have\",\n",
    "\"y'all're\": \"you all are\",\n",
    "\"y'all've\": \"you all have\",\n",
    "\"you'd\": \"you had / you would\",\n",
    "\"you'd've\": \"you would have\",\n",
    "\"you'll\": \"you shall / you will\",\n",
    "\"you'll've\": \"you shall have / you will have\",\n",
    "\"you're\": \"you are\",\n",
    "\"you've\": \"you have\"\n",
    "}"
   ]
  },
  {
   "cell_type": "code",
   "execution_count": 3,
   "id": "463df059",
   "metadata": {},
   "outputs": [],
   "source": [
    "stop_words = set(stopwords.words(\"english\"))"
   ]
  },
  {
   "cell_type": "code",
   "execution_count": 4,
   "id": "95e29721",
   "metadata": {
    "scrolled": true
   },
   "outputs": [
    {
     "data": {
      "text/html": [
       "<div>\n",
       "<style scoped>\n",
       "    .dataframe tbody tr th:only-of-type {\n",
       "        vertical-align: middle;\n",
       "    }\n",
       "\n",
       "    .dataframe tbody tr th {\n",
       "        vertical-align: top;\n",
       "    }\n",
       "\n",
       "    .dataframe thead th {\n",
       "        text-align: right;\n",
       "    }\n",
       "</style>\n",
       "<table border=\"1\" class=\"dataframe\">\n",
       "  <thead>\n",
       "    <tr style=\"text-align: right;\">\n",
       "      <th></th>\n",
       "      <th>Review</th>\n",
       "      <th>Date</th>\n",
       "    </tr>\n",
       "  </thead>\n",
       "  <tbody>\n",
       "    <tr>\n",
       "      <th>0</th>\n",
       "      <td>I am currently a plusnet broadband customer wh...</td>\n",
       "      <td>\"2 months ago\"</td>\n",
       "    </tr>\n",
       "    <tr>\n",
       "      <th>1</th>\n",
       "      <td>Avoid. Avoid. Avoid. First John Lewis Broadban...</td>\n",
       "      <td>\"8 months ago\"</td>\n",
       "    </tr>\n",
       "    <tr>\n",
       "      <th>2</th>\n",
       "      <td>They've taken my money and won't refund. I can...</td>\n",
       "      <td>\"8 months ago\"</td>\n",
       "    </tr>\n",
       "    <tr>\n",
       "      <th>3</th>\n",
       "      <td>I ordered broadband with telephone for a recen...</td>\n",
       "      <td>\"1 year ago\"</td>\n",
       "    </tr>\n",
       "    <tr>\n",
       "      <th>4</th>\n",
       "      <td>Poor internet phone line went down a few times</td>\n",
       "      <td>\"1 year ago\"</td>\n",
       "    </tr>\n",
       "    <tr>\n",
       "      <th>5</th>\n",
       "      <td>I ordered broadband 5 weeks ago still not hear...</td>\n",
       "      <td>\"1 year ago\"</td>\n",
       "    </tr>\n",
       "    <tr>\n",
       "      <th>6</th>\n",
       "      <td>Have waited 3 weeks since I applied for John L...</td>\n",
       "      <td>\"1 year ago\"</td>\n",
       "    </tr>\n",
       "    <tr>\n",
       "      <th>7</th>\n",
       "      <td>If I could give zero or negative ratings I wou...</td>\n",
       "      <td>\"1 year ago\"</td>\n",
       "    </tr>\n",
       "    <tr>\n",
       "      <th>8</th>\n",
       "      <td>John Lewis broadband deserve a positive review...</td>\n",
       "      <td>\"2 years ago\"</td>\n",
       "    </tr>\n",
       "    <tr>\n",
       "      <th>9</th>\n",
       "      <td>Avoid. Avoid. Avoid.\\n\\nThe worst broadband qu...</td>\n",
       "      <td>\"2 years ago\"</td>\n",
       "    </tr>\n",
       "    <tr>\n",
       "      <th>10</th>\n",
       "      <td>Not only my go live date was delayed but once ...</td>\n",
       "      <td>\"2 years ago\"</td>\n",
       "    </tr>\n",
       "    <tr>\n",
       "      <th>11</th>\n",
       "      <td>Never try their broadband. They use a cheap ro...</td>\n",
       "      <td>\"2 years ago\"</td>\n",
       "    </tr>\n",
       "    <tr>\n",
       "      <th>12</th>\n",
       "      <td>Poor service been with them a year almost and ...</td>\n",
       "      <td>\"2 years ago\"</td>\n",
       "    </tr>\n",
       "    <tr>\n",
       "      <th>13</th>\n",
       "      <td>In short don't use them.\\nOur phone line and i...</td>\n",
       "      <td>\"2 years ago\"</td>\n",
       "    </tr>\n",
       "    <tr>\n",
       "      <th>14</th>\n",
       "      <td>After ordering the broadband I had to call the...</td>\n",
       "      <td>\"3 years ago\"</td>\n",
       "    </tr>\n",
       "    <tr>\n",
       "      <th>15</th>\n",
       "      <td>Their broadband is operated by Plusnet who are...</td>\n",
       "      <td>\"4 years ago\"</td>\n",
       "    </tr>\n",
       "    <tr>\n",
       "      <th>16</th>\n",
       "      <td>This must be the perfect supplier - No bleats ...</td>\n",
       "      <td>\"6 years ago\"</td>\n",
       "    </tr>\n",
       "  </tbody>\n",
       "</table>\n",
       "</div>"
      ],
      "text/plain": [
       "                                               Review             Date\n",
       "0   I am currently a plusnet broadband customer wh...   \"2 months ago\"\n",
       "1   Avoid. Avoid. Avoid. First John Lewis Broadban...   \"8 months ago\"\n",
       "2   They've taken my money and won't refund. I can...   \"8 months ago\"\n",
       "3   I ordered broadband with telephone for a recen...     \"1 year ago\"\n",
       "4      Poor internet phone line went down a few times     \"1 year ago\"\n",
       "5   I ordered broadband 5 weeks ago still not hear...     \"1 year ago\"\n",
       "6   Have waited 3 weeks since I applied for John L...     \"1 year ago\"\n",
       "7   If I could give zero or negative ratings I wou...     \"1 year ago\"\n",
       "8   John Lewis broadband deserve a positive review...    \"2 years ago\"\n",
       "9   Avoid. Avoid. Avoid.\\n\\nThe worst broadband qu...    \"2 years ago\"\n",
       "10  Not only my go live date was delayed but once ...    \"2 years ago\"\n",
       "11  Never try their broadband. They use a cheap ro...    \"2 years ago\"\n",
       "12  Poor service been with them a year almost and ...    \"2 years ago\"\n",
       "13  In short don't use them.\\nOur phone line and i...    \"2 years ago\"\n",
       "14  After ordering the broadband I had to call the...    \"3 years ago\"\n",
       "15  Their broadband is operated by Plusnet who are...    \"4 years ago\"\n",
       "16  This must be the perfect supplier - No bleats ...    \"6 years ago\""
      ]
     },
     "execution_count": 4,
     "metadata": {},
     "output_type": "execute_result"
    }
   ],
   "source": [
    "data = pd.read_csv('JLALLPages.csv')\n",
    "JLframe = data\n",
    "data"
   ]
  },
  {
   "cell_type": "code",
   "execution_count": 5,
   "id": "e5f2d48a",
   "metadata": {},
   "outputs": [],
   "source": [
    "# contraction expansion function\n",
    "def cont_to_exp(x):\n",
    "    if type(x) is str:\n",
    "        for key in contractions:\n",
    "            value = contractions[key]\n",
    "            x = x.replace(key, value)\n",
    "        return x\n",
    "    else:\n",
    "        return x"
   ]
  },
  {
   "cell_type": "code",
   "execution_count": 6,
   "id": "ccd4117a",
   "metadata": {
    "scrolled": true
   },
   "outputs": [
    {
     "name": "stdout",
     "output_type": "stream",
     "text": [
      "['Review', 'Date']\n",
      "['I am currently a plusnet broadband customer which I am happy to continue using. However as my contract has now ended and plusnet will not give me the new customer\" cashback incentive I am considering switching to John Lewis who are effectively still plusnet to my knowledge. In theory if I switch to John Lewis it should be the same service but I will get the current Â£75 black Friday deal as a new customer. Has anyone used both providers before? I am presuming it would be a fairly straightforward switch over considering they are effectively the same isp.\"', ' \"2 months ago\"']\n",
      "[\"Avoid. Avoid. Avoid. First John Lewis Broadband failed to process my order and I incurred increased charges from my old supplier. Then John Lewis Broadband never actually got around to pressing the 'on' button to connect my broadband when they were supposed to. Just when I thought I'd escaped these incompetents by moving to a new supplier when they jacked their prices up - it now turns out that John Lewis Broadband haven't actually disconnected my broadband and think they are still supplying me. Customer service don't know what they're doing and don't respond to online messages sent via my account. This is gong to effect my future relationship with Plusnet who I believe are the brains behind this outfit. Very damaging for their brand to be associated with this lot.\", ' \"8 months ago\"']\n",
      "[\"They've taken my money and won't refund. I cancelled within 14 days. Since they lied to make a sale and it wasn't possible to get the service they said they would. In addition to this they never spelt my name email etc correctly and were unable to correct this. They've taken my Â£29 and no one will give it back. i've spoken with over 10 'customer reps' each one less willing to help than the last. Many don't have a good grasp of english and don't want to help. A manager promised to call back but didn't.\", ' \"8 months ago\"']\n",
      "['I ordered broadband with telephone for a recently rented property and paid Â£75.00 up front. I was offered three dates for an engineer to visit and the box would be delivered beforehand.\\nNeedless to say I have not received the box and no engineer has arrived. I went online to my account and tried to make contact firstly via a mail box however I gave not received a response despite the promise of a reply within 24hrs. I also telephoned the customer service number and waited more than 3hours on hold before giving up.\\nJohn Lewis should stick to retail and not venture into areas they cannot deliver on.\\nI am at the stage now that I will never spend money on anything related to the John Lewis/Waitrose group in future.', ' \"1 year ago\"']\n",
      "['Poor internet phone line went down a few times', ' \"1 year ago\"']\n",
      "[\"I ordered broadband 5 weeks ago still not heard anything. As I am writing this review I am on hold for the third day in a row to try and get through to cancel my order. At the moment I am into 103 minutes on hold. I am determined to get to speak to someone to cancel. I tried there online method which they say that they respond to in 24 hrs but that was 6 days ago. I don't normally write reviews but this service is RUBBISH and so is the music whilst your being ignored by the shocking staff.\", ' \"1 year ago\"']\n",
      "['Have waited 3 weeks since I applied for John Lewis broadband I shouldâ€™ve gone live on the 19th and every day when I phone they tell me 48 hours 40 hours later they tell me 48 hours et cetera et cetera I have asked to speak to a supervisor or manager and they tell me they donâ€™t exist and that basically I just have to keep putting up with it terrible to treat people in isolation like this.', ' \"1 year ago\"']\n",
      "[\"If I could give zero or negative ratings I would. Dire customer service broadband speeds not as promised and additionally they promised an engineer to visit for connection purposes on signing up. The engineer didn't show up and I had taken a day off as A/L. Losing a day of A/L. When i phoned they said even though I had received confirmation of the engineer visiting by email my order had not yet been placed! No refund of anything given for this and internet connection delayed by a month. Please guys cut your losses. Do not sign up with JL broadband.\", ' \"1 year ago\"']\n",
      "['John Lewis broadband deserve a positive review my parents use them and never have any problems. This is who I will be switching to when my contract expires next month.', ' \"2 years ago\"']\n",
      "['Avoid. Avoid. Avoid.\\n\\nThe worst broadband quality and poorest service Iâ€™ve ever encountered.\\n\\nService just cut out endlessly every day.. Spent 4 months trying to rectify by speaking with technical support. 8 different people suggested 8 alternative â€˜fixesâ€™. None worked. Am currently in process of transferring.\\n\\nRelative also experiencing similar pitifully slow interrupted broadband. Have terminated contract and despite JL agreeing on the phone to waive the early termination fee theyâ€™ve immediately written to an 81 year old lady demanding early closure fees.\\n\\nBy the way JL broadband is just Plusnet with JL fronting it\\n\\nThey are the worst company Iâ€™ve ever had the misfortune to deal with a recommend to avoid like the plague', ' \"2 years ago\"']\n",
      "[\"Not only my go live date was delayed but once we got the broadband it was absolutely shocking. The connection kept dropping all the time and we spent way too much time talking to their technical support about it. To be fair most of the support staff were pretty good and they did send the engineer to have a look (no faults with the line found). They were pretty funny about cancelling at first trying to tell me that we were bound by the contract but completely ignoring the fact that their service was not fit for purpose. Ended up cancelling after one week of this disastrous connection (or lack of one for the majority of time) after spending a fortune on my mobile data as the broadband was so poor I had to use my mobile hotspot. They didn't even refund me in full arguing that the phone line their supplied was not faulty! Really a let down form John Lewis never again. Signed up with BT straight away and their free public WIFI works better than JL's ever did.\", ' \"2 years ago\"']\n",
      "['Never try their broadband. They use a cheap router and you have to change the channels regularly to make it work. We always have drops in our internet upto an hour long and when i ring their technical dept they say that it is expected to have at least 3 or 4 drops every 3 days ive never had that with Sky or anyone else.\\n\\nWe spend over Â£130 a week with Waitrose shopping and buy clothes and electricals from John Lewis and when we said we would cancel all those weekly orders for the sake of a Â£100 cancellation fee the person said i have the ability to remove the cancellation charge but i wont do it even though he knew they would loose Â£6-8000 a year in shopping. What a joke.\\n\\nWe are taking it further so i would let you know what his managers say about loosing Â£8000 a year for the brand to keep Â£100 in his department.', ' \"2 years ago\"']\n",
      "['Poor service been with them a year almost and itâ€™s a monthly occurrence - poor internet phone line issues...yet again today phone line is down internet slow have 6 weeks to go till end of my contract...told line fault will be fixed by end of the week...Iâ€™m canâ€™t stand the poor service anymore and Iâ€™m leaving early..paying the early exit fees but I just donâ€™t care -itâ€™s been such a poor service!!', ' \"2 years ago\"']\n",
      "[\"In short don't use them.\\nOur phone line and internet were cut off for over a week. After an engineer could not find a fault at the exchange they sent an engineer to the house without an appointment. No one was in and then they told us they could not send another for 4 days. When the engineer did come (after a week) it turned out that the fault was at the exchange all along and the first engineer had missed it.\\nCustomer service was poor giving different excuses for not sending an engineer and it was impossible to elevate the complaint.\\nWhen the line is working we only get download speeds of max 2mbs but this regularly (every couple of days at the moment) gets dropped down to 0.2mbs. When we call the speed goes back to normal so BT must be choking the speed.\", ' \"2 years ago\"']\n",
      "['After ordering the broadband I had to call them just before the start of service to ask for a router. Apparently it had been forgotten to be sent out. One minute after asking for the router I received an e-mail stating my broadband order had been cancelled. Nobody could tell me why this had happened and I had to wait 5 days before anyone contacted me. When they did they just said they didnâ€™t know why it was cancelled and that I woud have to start the order again from the start. Apart from â€˜Iâ€™m sorryâ€™ there was no offer of compensation or anything. I had to beg my previous provider not to terminate my broadband/phone. NOT recommended! I wish I had read these reviews before wasting my time. Very disappointed that John Lewis are treating their customers in this way.', ' \"3 years ago\"']\n",
      "['Their broadband is operated by Plusnet who are also reliable should be amazing really.', ' \"4 years ago\"']\n",
      "['This must be the perfect supplier - No bleats from anyone - then again perhaps nobody uses them!', ' \"6 years ago\"']\n"
     ]
    }
   ],
   "source": [
    "comments = []\n",
    "with open (\"JLAllPages.csv\", \"r\") as file:\n",
    "    reader = csv.reader(file)\n",
    "    for row in reader:\n",
    "        comments.append(row)\n",
    "        print (row)"
   ]
  },
  {
   "cell_type": "code",
   "execution_count": 7,
   "id": "0e6d3e70",
   "metadata": {},
   "outputs": [],
   "source": [
    "del comments[0]"
   ]
  },
  {
   "cell_type": "code",
   "execution_count": 8,
   "id": "80127cd0",
   "metadata": {},
   "outputs": [
    {
     "name": "stdout",
     "output_type": "stream",
     "text": [
      "i am currently a plusnet broadband customer which i am happy to continue using. however as my contract has now ended and plusnet will not give me the new customer\" cashback incentive i am considering switching to john lewis who are effectively still plusnet to my knowledge. in theory if i switch to john lewis it should be the same service but i will get the current â£75 black friday deal as a new customer. has anyone used both providers before? i am presuming it would be a fairly straightforward switch over considering they are effectively the same isp.\"\n",
      "Sentiment(polarity=0.2255509641873278, subjectivity=0.4879476584022038)\n"
     ]
    }
   ],
   "source": [
    "review = comments[0][0].lower()\n",
    "print (review)\n",
    "blob = TextBlob(review)\n",
    "sentiment = blob.sentiment\n",
    "print (sentiment)"
   ]
  },
  {
   "cell_type": "code",
   "execution_count": 9,
   "id": "29c5e9b6",
   "metadata": {},
   "outputs": [],
   "source": [
    "polarities = []\n",
    "subjectivities = []\n",
    "for doc in comments: \n",
    "    blob = TextBlob(doc[0])\n",
    "    polarity = blob.sentiment.polarity\n",
    "    subjectivity = blob.sentiment.subjectivity\n",
    "    polarities.append(polarity)\n",
    "    subjectivities.append(subjectivity)"
   ]
  },
  {
   "cell_type": "code",
   "execution_count": 10,
   "id": "4a0aa6cd",
   "metadata": {},
   "outputs": [
    {
     "data": {
      "text/plain": [
       "<function matplotlib.pyplot.show(close=None, block=None)>"
      ]
     },
     "execution_count": 10,
     "metadata": {},
     "output_type": "execute_result"
    },
    {
     "data": {
      "image/png": "[encoded data removed]",
      "text/plain": [
       "<Figure size 432x288 with 1 Axes>"
      ]
     },
     "metadata": {
      "image/png": {
       "height": 277,
       "width": 401
      },
      "needs_background": "light"
     },
     "output_type": "display_data"
    }
   ],
   "source": [
    "plt.scatter (polarities, subjectivities)\n",
    "plt.xlabel (\"polarities\")\n",
    "plt.ylabel (\"subjectivities\")\n",
    "plt.title (\"subjectivities as a function of polarities of John Lewis reviews\")\n",
    "plt.show"
   ]
  },
  {
   "cell_type": "code",
   "execution_count": 11,
   "id": "5f886cd4",
   "metadata": {},
   "outputs": [
    {
     "data": {
      "text/html": [
       "<div>\n",
       "<style scoped>\n",
       "    .dataframe tbody tr th:only-of-type {\n",
       "        vertical-align: middle;\n",
       "    }\n",
       "\n",
       "    .dataframe tbody tr th {\n",
       "        vertical-align: top;\n",
       "    }\n",
       "\n",
       "    .dataframe thead th {\n",
       "        text-align: right;\n",
       "    }\n",
       "</style>\n",
       "<table border=\"1\" class=\"dataframe\">\n",
       "  <thead>\n",
       "    <tr style=\"text-align: right;\">\n",
       "      <th></th>\n",
       "      <th>Review</th>\n",
       "      <th>Date</th>\n",
       "      <th>Subjectivity</th>\n",
       "      <th>Polarity</th>\n",
       "    </tr>\n",
       "  </thead>\n",
       "  <tbody>\n",
       "    <tr>\n",
       "      <th>0</th>\n",
       "      <td>I am currently a plusnet broadband customer wh...</td>\n",
       "      <td>\"2 months ago\"</td>\n",
       "      <td>0.487948</td>\n",
       "      <td>0.225551</td>\n",
       "    </tr>\n",
       "    <tr>\n",
       "      <th>1</th>\n",
       "      <td>Avoid. Avoid. Avoid. First John Lewis Broadban...</td>\n",
       "      <td>\"8 months ago\"</td>\n",
       "      <td>0.290320</td>\n",
       "      <td>-0.023737</td>\n",
       "    </tr>\n",
       "    <tr>\n",
       "      <th>2</th>\n",
       "      <td>They've taken my money and won't refund. I can...</td>\n",
       "      <td>\"8 months ago\"</td>\n",
       "      <td>0.348333</td>\n",
       "      <td>0.078333</td>\n",
       "    </tr>\n",
       "    <tr>\n",
       "      <th>3</th>\n",
       "      <td>I ordered broadband with telephone for a recen...</td>\n",
       "      <td>\"1 year ago\"</td>\n",
       "      <td>0.434722</td>\n",
       "      <td>0.041667</td>\n",
       "    </tr>\n",
       "    <tr>\n",
       "      <th>4</th>\n",
       "      <td>Poor internet phone line went down a few times</td>\n",
       "      <td>\"1 year ago\"</td>\n",
       "      <td>0.329630</td>\n",
       "      <td>-0.251852</td>\n",
       "    </tr>\n",
       "    <tr>\n",
       "      <th>5</th>\n",
       "      <td>I ordered broadband 5 weeks ago still not hear...</td>\n",
       "      <td>\"1 year ago\"</td>\n",
       "      <td>0.550000</td>\n",
       "      <td>-0.283333</td>\n",
       "    </tr>\n",
       "    <tr>\n",
       "      <th>6</th>\n",
       "      <td>Have waited 3 weeks since I applied for John L...</td>\n",
       "      <td>\"1 year ago\"</td>\n",
       "      <td>0.500000</td>\n",
       "      <td>-0.287879</td>\n",
       "    </tr>\n",
       "    <tr>\n",
       "      <th>7</th>\n",
       "      <td>If I could give zero or negative ratings I wou...</td>\n",
       "      <td>\"1 year ago\"</td>\n",
       "      <td>0.400000</td>\n",
       "      <td>-0.375000</td>\n",
       "    </tr>\n",
       "    <tr>\n",
       "      <th>8</th>\n",
       "      <td>John Lewis broadband deserve a positive review...</td>\n",
       "      <td>\"2 years ago\"</td>\n",
       "      <td>0.272727</td>\n",
       "      <td>0.113636</td>\n",
       "    </tr>\n",
       "    <tr>\n",
       "      <th>9</th>\n",
       "      <td>Avoid. Avoid. Avoid.\\n\\nThe worst broadband qu...</td>\n",
       "      <td>\"2 years ago\"</td>\n",
       "      <td>0.426923</td>\n",
       "      <td>-0.171154</td>\n",
       "    </tr>\n",
       "    <tr>\n",
       "      <th>10</th>\n",
       "      <td>Not only my go live date was delayed but once ...</td>\n",
       "      <td>\"2 years ago\"</td>\n",
       "      <td>0.551620</td>\n",
       "      <td>0.104930</td>\n",
       "    </tr>\n",
       "    <tr>\n",
       "      <th>11</th>\n",
       "      <td>Never try their broadband. They use a cheap ro...</td>\n",
       "      <td>\"2 years ago\"</td>\n",
       "      <td>0.355769</td>\n",
       "      <td>-0.015865</td>\n",
       "    </tr>\n",
       "    <tr>\n",
       "      <th>12</th>\n",
       "      <td>Poor service been with them a year almost and ...</td>\n",
       "      <td>\"2 years ago\"</td>\n",
       "      <td>0.454321</td>\n",
       "      <td>-0.231173</td>\n",
       "    </tr>\n",
       "    <tr>\n",
       "      <th>13</th>\n",
       "      <td>In short don't use them.\\nOur phone line and i...</td>\n",
       "      <td>\"2 years ago\"</td>\n",
       "      <td>0.459013</td>\n",
       "      <td>-0.102020</td>\n",
       "    </tr>\n",
       "    <tr>\n",
       "      <th>14</th>\n",
       "      <td>After ordering the broadband I had to call the...</td>\n",
       "      <td>\"3 years ago\"</td>\n",
       "      <td>0.497222</td>\n",
       "      <td>-0.377778</td>\n",
       "    </tr>\n",
       "    <tr>\n",
       "      <th>15</th>\n",
       "      <td>Their broadband is operated by Plusnet who are...</td>\n",
       "      <td>\"4 years ago\"</td>\n",
       "      <td>0.550000</td>\n",
       "      <td>0.400000</td>\n",
       "    </tr>\n",
       "    <tr>\n",
       "      <th>16</th>\n",
       "      <td>This must be the perfect supplier - No bleats ...</td>\n",
       "      <td>\"6 years ago\"</td>\n",
       "      <td>1.000000</td>\n",
       "      <td>1.000000</td>\n",
       "    </tr>\n",
       "  </tbody>\n",
       "</table>\n",
       "</div>"
      ],
      "text/plain": [
       "                                               Review             Date  \\\n",
       "0   I am currently a plusnet broadband customer wh...   \"2 months ago\"   \n",
       "1   Avoid. Avoid. Avoid. First John Lewis Broadban...   \"8 months ago\"   \n",
       "2   They've taken my money and won't refund. I can...   \"8 months ago\"   \n",
       "3   I ordered broadband with telephone for a recen...     \"1 year ago\"   \n",
       "4      Poor internet phone line went down a few times     \"1 year ago\"   \n",
       "5   I ordered broadband 5 weeks ago still not hear...     \"1 year ago\"   \n",
       "6   Have waited 3 weeks since I applied for John L...     \"1 year ago\"   \n",
       "7   If I could give zero or negative ratings I wou...     \"1 year ago\"   \n",
       "8   John Lewis broadband deserve a positive review...    \"2 years ago\"   \n",
       "9   Avoid. Avoid. Avoid.\\n\\nThe worst broadband qu...    \"2 years ago\"   \n",
       "10  Not only my go live date was delayed but once ...    \"2 years ago\"   \n",
       "11  Never try their broadband. They use a cheap ro...    \"2 years ago\"   \n",
       "12  Poor service been with them a year almost and ...    \"2 years ago\"   \n",
       "13  In short don't use them.\\nOur phone line and i...    \"2 years ago\"   \n",
       "14  After ordering the broadband I had to call the...    \"3 years ago\"   \n",
       "15  Their broadband is operated by Plusnet who are...    \"4 years ago\"   \n",
       "16  This must be the perfect supplier - No bleats ...    \"6 years ago\"   \n",
       "\n",
       "    Subjectivity  Polarity  \n",
       "0       0.487948  0.225551  \n",
       "1       0.290320 -0.023737  \n",
       "2       0.348333  0.078333  \n",
       "3       0.434722  0.041667  \n",
       "4       0.329630 -0.251852  \n",
       "5       0.550000 -0.283333  \n",
       "6       0.500000 -0.287879  \n",
       "7       0.400000 -0.375000  \n",
       "8       0.272727  0.113636  \n",
       "9       0.426923 -0.171154  \n",
       "10      0.551620  0.104930  \n",
       "11      0.355769 -0.015865  \n",
       "12      0.454321 -0.231173  \n",
       "13      0.459013 -0.102020  \n",
       "14      0.497222 -0.377778  \n",
       "15      0.550000  0.400000  \n",
       "16      1.000000  1.000000  "
      ]
     },
     "execution_count": 11,
     "metadata": {},
     "output_type": "execute_result"
    }
   ],
   "source": [
    "data [\"Subjectivity\"] = subjectivities \n",
    "data [\"Polarity\"] = polarities\n",
    "full_data = data\n",
    "full_data"
   ]
  },
  {
   "cell_type": "code",
   "execution_count": 12,
   "id": "5ddf5a40",
   "metadata": {},
   "outputs": [
    {
     "data": {
      "text/html": [
       "<div>\n",
       "<style scoped>\n",
       "    .dataframe tbody tr th:only-of-type {\n",
       "        vertical-align: middle;\n",
       "    }\n",
       "\n",
       "    .dataframe tbody tr th {\n",
       "        vertical-align: top;\n",
       "    }\n",
       "\n",
       "    .dataframe thead th {\n",
       "        text-align: right;\n",
       "    }\n",
       "</style>\n",
       "<table border=\"1\" class=\"dataframe\">\n",
       "  <thead>\n",
       "    <tr style=\"text-align: right;\">\n",
       "      <th></th>\n",
       "      <th>Review</th>\n",
       "      <th>Date</th>\n",
       "      <th>Subjectivity</th>\n",
       "      <th>Polarity</th>\n",
       "      <th>Score</th>\n",
       "      <th>Client</th>\n",
       "    </tr>\n",
       "  </thead>\n",
       "  <tbody>\n",
       "    <tr>\n",
       "      <th>0</th>\n",
       "      <td>I am currently a plusnet broadband customer wh...</td>\n",
       "      <td>\"2 months ago\"</td>\n",
       "      <td>0.487948</td>\n",
       "      <td>0.225551</td>\n",
       "      <td>0.110057</td>\n",
       "      <td>John Lewis</td>\n",
       "    </tr>\n",
       "    <tr>\n",
       "      <th>1</th>\n",
       "      <td>Avoid. Avoid. Avoid. First John Lewis Broadban...</td>\n",
       "      <td>\"8 months ago\"</td>\n",
       "      <td>0.290320</td>\n",
       "      <td>-0.023737</td>\n",
       "      <td>-0.006891</td>\n",
       "      <td>John Lewis</td>\n",
       "    </tr>\n",
       "    <tr>\n",
       "      <th>2</th>\n",
       "      <td>They've taken my money and won't refund. I can...</td>\n",
       "      <td>\"8 months ago\"</td>\n",
       "      <td>0.348333</td>\n",
       "      <td>0.078333</td>\n",
       "      <td>0.027286</td>\n",
       "      <td>John Lewis</td>\n",
       "    </tr>\n",
       "    <tr>\n",
       "      <th>3</th>\n",
       "      <td>I ordered broadband with telephone for a recen...</td>\n",
       "      <td>\"1 year ago\"</td>\n",
       "      <td>0.434722</td>\n",
       "      <td>0.041667</td>\n",
       "      <td>0.018113</td>\n",
       "      <td>John Lewis</td>\n",
       "    </tr>\n",
       "    <tr>\n",
       "      <th>4</th>\n",
       "      <td>Poor internet phone line went down a few times</td>\n",
       "      <td>\"1 year ago\"</td>\n",
       "      <td>0.329630</td>\n",
       "      <td>-0.251852</td>\n",
       "      <td>-0.083018</td>\n",
       "      <td>John Lewis</td>\n",
       "    </tr>\n",
       "    <tr>\n",
       "      <th>5</th>\n",
       "      <td>I ordered broadband 5 weeks ago still not hear...</td>\n",
       "      <td>\"1 year ago\"</td>\n",
       "      <td>0.550000</td>\n",
       "      <td>-0.283333</td>\n",
       "      <td>-0.155833</td>\n",
       "      <td>John Lewis</td>\n",
       "    </tr>\n",
       "    <tr>\n",
       "      <th>6</th>\n",
       "      <td>Have waited 3 weeks since I applied for John L...</td>\n",
       "      <td>\"1 year ago\"</td>\n",
       "      <td>0.500000</td>\n",
       "      <td>-0.287879</td>\n",
       "      <td>-0.143939</td>\n",
       "      <td>John Lewis</td>\n",
       "    </tr>\n",
       "    <tr>\n",
       "      <th>7</th>\n",
       "      <td>If I could give zero or negative ratings I wou...</td>\n",
       "      <td>\"1 year ago\"</td>\n",
       "      <td>0.400000</td>\n",
       "      <td>-0.375000</td>\n",
       "      <td>-0.150000</td>\n",
       "      <td>John Lewis</td>\n",
       "    </tr>\n",
       "    <tr>\n",
       "      <th>8</th>\n",
       "      <td>John Lewis broadband deserve a positive review...</td>\n",
       "      <td>\"2 years ago\"</td>\n",
       "      <td>0.272727</td>\n",
       "      <td>0.113636</td>\n",
       "      <td>0.030992</td>\n",
       "      <td>John Lewis</td>\n",
       "    </tr>\n",
       "    <tr>\n",
       "      <th>9</th>\n",
       "      <td>Avoid. Avoid. Avoid.\\n\\nThe worst broadband qu...</td>\n",
       "      <td>\"2 years ago\"</td>\n",
       "      <td>0.426923</td>\n",
       "      <td>-0.171154</td>\n",
       "      <td>-0.073070</td>\n",
       "      <td>John Lewis</td>\n",
       "    </tr>\n",
       "    <tr>\n",
       "      <th>10</th>\n",
       "      <td>Not only my go live date was delayed but once ...</td>\n",
       "      <td>\"2 years ago\"</td>\n",
       "      <td>0.551620</td>\n",
       "      <td>0.104930</td>\n",
       "      <td>0.057881</td>\n",
       "      <td>John Lewis</td>\n",
       "    </tr>\n",
       "    <tr>\n",
       "      <th>11</th>\n",
       "      <td>Never try their broadband. They use a cheap ro...</td>\n",
       "      <td>\"2 years ago\"</td>\n",
       "      <td>0.355769</td>\n",
       "      <td>-0.015865</td>\n",
       "      <td>-0.005644</td>\n",
       "      <td>John Lewis</td>\n",
       "    </tr>\n",
       "    <tr>\n",
       "      <th>12</th>\n",
       "      <td>Poor service been with them a year almost and ...</td>\n",
       "      <td>\"2 years ago\"</td>\n",
       "      <td>0.454321</td>\n",
       "      <td>-0.231173</td>\n",
       "      <td>-0.105027</td>\n",
       "      <td>John Lewis</td>\n",
       "    </tr>\n",
       "    <tr>\n",
       "      <th>13</th>\n",
       "      <td>In short don't use them.\\nOur phone line and i...</td>\n",
       "      <td>\"2 years ago\"</td>\n",
       "      <td>0.459013</td>\n",
       "      <td>-0.102020</td>\n",
       "      <td>-0.046829</td>\n",
       "      <td>John Lewis</td>\n",
       "    </tr>\n",
       "    <tr>\n",
       "      <th>14</th>\n",
       "      <td>After ordering the broadband I had to call the...</td>\n",
       "      <td>\"3 years ago\"</td>\n",
       "      <td>0.497222</td>\n",
       "      <td>-0.377778</td>\n",
       "      <td>-0.187840</td>\n",
       "      <td>John Lewis</td>\n",
       "    </tr>\n",
       "    <tr>\n",
       "      <th>15</th>\n",
       "      <td>Their broadband is operated by Plusnet who are...</td>\n",
       "      <td>\"4 years ago\"</td>\n",
       "      <td>0.550000</td>\n",
       "      <td>0.400000</td>\n",
       "      <td>0.220000</td>\n",
       "      <td>John Lewis</td>\n",
       "    </tr>\n",
       "    <tr>\n",
       "      <th>16</th>\n",
       "      <td>This must be the perfect supplier - No bleats ...</td>\n",
       "      <td>\"6 years ago\"</td>\n",
       "      <td>1.000000</td>\n",
       "      <td>1.000000</td>\n",
       "      <td>1.000000</td>\n",
       "      <td>John Lewis</td>\n",
       "    </tr>\n",
       "  </tbody>\n",
       "</table>\n",
       "</div>"
      ],
      "text/plain": [
       "                                               Review             Date  \\\n",
       "0   I am currently a plusnet broadband customer wh...   \"2 months ago\"   \n",
       "1   Avoid. Avoid. Avoid. First John Lewis Broadban...   \"8 months ago\"   \n",
       "2   They've taken my money and won't refund. I can...   \"8 months ago\"   \n",
       "3   I ordered broadband with telephone for a recen...     \"1 year ago\"   \n",
       "4      Poor internet phone line went down a few times     \"1 year ago\"   \n",
       "5   I ordered broadband 5 weeks ago still not hear...     \"1 year ago\"   \n",
       "6   Have waited 3 weeks since I applied for John L...     \"1 year ago\"   \n",
       "7   If I could give zero or negative ratings I wou...     \"1 year ago\"   \n",
       "8   John Lewis broadband deserve a positive review...    \"2 years ago\"   \n",
       "9   Avoid. Avoid. Avoid.\\n\\nThe worst broadband qu...    \"2 years ago\"   \n",
       "10  Not only my go live date was delayed but once ...    \"2 years ago\"   \n",
       "11  Never try their broadband. They use a cheap ro...    \"2 years ago\"   \n",
       "12  Poor service been with them a year almost and ...    \"2 years ago\"   \n",
       "13  In short don't use them.\\nOur phone line and i...    \"2 years ago\"   \n",
       "14  After ordering the broadband I had to call the...    \"3 years ago\"   \n",
       "15  Their broadband is operated by Plusnet who are...    \"4 years ago\"   \n",
       "16  This must be the perfect supplier - No bleats ...    \"6 years ago\"   \n",
       "\n",
       "    Subjectivity  Polarity     Score      Client  \n",
       "0       0.487948  0.225551  0.110057  John Lewis  \n",
       "1       0.290320 -0.023737 -0.006891  John Lewis  \n",
       "2       0.348333  0.078333  0.027286  John Lewis  \n",
       "3       0.434722  0.041667  0.018113  John Lewis  \n",
       "4       0.329630 -0.251852 -0.083018  John Lewis  \n",
       "5       0.550000 -0.283333 -0.155833  John Lewis  \n",
       "6       0.500000 -0.287879 -0.143939  John Lewis  \n",
       "7       0.400000 -0.375000 -0.150000  John Lewis  \n",
       "8       0.272727  0.113636  0.030992  John Lewis  \n",
       "9       0.426923 -0.171154 -0.073070  John Lewis  \n",
       "10      0.551620  0.104930  0.057881  John Lewis  \n",
       "11      0.355769 -0.015865 -0.005644  John Lewis  \n",
       "12      0.454321 -0.231173 -0.105027  John Lewis  \n",
       "13      0.459013 -0.102020 -0.046829  John Lewis  \n",
       "14      0.497222 -0.377778 -0.187840  John Lewis  \n",
       "15      0.550000  0.400000  0.220000  John Lewis  \n",
       "16      1.000000  1.000000  1.000000  John Lewis  "
      ]
     },
     "execution_count": 12,
     "metadata": {},
     "output_type": "execute_result"
    }
   ],
   "source": [
    "data ['Score'] = data['Subjectivity'] * data['Polarity']\n",
    "data ['Client'] = \"John Lewis\"\n",
    "full_data = data\n",
    "full_data"
   ]
  },
  {
   "cell_type": "code",
   "execution_count": 13,
   "id": "42a8e663",
   "metadata": {},
   "outputs": [
    {
     "name": "stdout",
     "output_type": "stream",
     "text": [
      "average polarity is:\n",
      "-0.009157327393178531\n",
      "average subjectvitiy is:\n",
      "0.4652087693286445\n"
     ]
    }
   ],
   "source": [
    "pol_mean = full_data['Polarity'].mean()\n",
    "sub_mean = full_data['Subjectivity'].mean()\n",
    "print (\"average polarity is:\")\n",
    "print(pol_mean)\n",
    "print (\"average subjectvitiy is:\")\n",
    "print (sub_mean)"
   ]
  },
  {
   "cell_type": "code",
   "execution_count": 14,
   "id": "b18aaf4c",
   "metadata": {},
   "outputs": [],
   "source": [
    "full_data.to_csv('JLFinal.csv', index=False)"
   ]
  },
  {
   "cell_type": "code",
   "execution_count": null,
   "id": "d1355e1b",
   "metadata": {},
   "outputs": [],
   "source": []
  },
  {
   "cell_type": "code",
   "execution_count": 15,
   "id": "b152c70f",
   "metadata": {},
   "outputs": [
    {
     "data": {
      "text/html": [
       "<div>\n",
       "<style scoped>\n",
       "    .dataframe tbody tr th:only-of-type {\n",
       "        vertical-align: middle;\n",
       "    }\n",
       "\n",
       "    .dataframe tbody tr th {\n",
       "        vertical-align: top;\n",
       "    }\n",
       "\n",
       "    .dataframe thead th {\n",
       "        text-align: right;\n",
       "    }\n",
       "</style>\n",
       "<table border=\"1\" class=\"dataframe\">\n",
       "  <thead>\n",
       "    <tr style=\"text-align: right;\">\n",
       "      <th></th>\n",
       "      <th>Review</th>\n",
       "      <th>Date</th>\n",
       "      <th>Subjectivity</th>\n",
       "      <th>Polarity</th>\n",
       "      <th>Score</th>\n",
       "      <th>Client</th>\n",
       "    </tr>\n",
       "  </thead>\n",
       "  <tbody>\n",
       "    <tr>\n",
       "      <th>0</th>\n",
       "      <td>currently plusnet broadband customer happy con...</td>\n",
       "      <td>\"2 months ago\"</td>\n",
       "      <td>0.487948</td>\n",
       "      <td>0.225551</td>\n",
       "      <td>0.110057</td>\n",
       "      <td>John Lewis</td>\n",
       "    </tr>\n",
       "    <tr>\n",
       "      <th>1</th>\n",
       "      <td>avoid avoid avoid first john lewis broadband f...</td>\n",
       "      <td>\"8 months ago\"</td>\n",
       "      <td>0.290320</td>\n",
       "      <td>-0.023737</td>\n",
       "      <td>-0.006891</td>\n",
       "      <td>John Lewis</td>\n",
       "    </tr>\n",
       "    <tr>\n",
       "      <th>2</th>\n",
       "      <td>taken money refund cancelled within 14 days si...</td>\n",
       "      <td>\"8 months ago\"</td>\n",
       "      <td>0.348333</td>\n",
       "      <td>0.078333</td>\n",
       "      <td>0.027286</td>\n",
       "      <td>John Lewis</td>\n",
       "    </tr>\n",
       "    <tr>\n",
       "      <th>3</th>\n",
       "      <td>ordered broadband telephone recently rented pr...</td>\n",
       "      <td>\"1 year ago\"</td>\n",
       "      <td>0.434722</td>\n",
       "      <td>0.041667</td>\n",
       "      <td>0.018113</td>\n",
       "      <td>John Lewis</td>\n",
       "    </tr>\n",
       "    <tr>\n",
       "      <th>4</th>\n",
       "      <td>poor internet phone line went times</td>\n",
       "      <td>\"1 year ago\"</td>\n",
       "      <td>0.329630</td>\n",
       "      <td>-0.251852</td>\n",
       "      <td>-0.083018</td>\n",
       "      <td>John Lewis</td>\n",
       "    </tr>\n",
       "    <tr>\n",
       "      <th>5</th>\n",
       "      <td>ordered broadband 5 weeks ago still heard anyt...</td>\n",
       "      <td>\"1 year ago\"</td>\n",
       "      <td>0.550000</td>\n",
       "      <td>-0.283333</td>\n",
       "      <td>-0.155833</td>\n",
       "      <td>John Lewis</td>\n",
       "    </tr>\n",
       "    <tr>\n",
       "      <th>6</th>\n",
       "      <td>waited 3 weeks since applied john lewis broadb...</td>\n",
       "      <td>\"1 year ago\"</td>\n",
       "      <td>0.500000</td>\n",
       "      <td>-0.287879</td>\n",
       "      <td>-0.143939</td>\n",
       "      <td>John Lewis</td>\n",
       "    </tr>\n",
       "    <tr>\n",
       "      <th>7</th>\n",
       "      <td>could give zero negative ratings would dire cu...</td>\n",
       "      <td>\"1 year ago\"</td>\n",
       "      <td>0.400000</td>\n",
       "      <td>-0.375000</td>\n",
       "      <td>-0.150000</td>\n",
       "      <td>John Lewis</td>\n",
       "    </tr>\n",
       "    <tr>\n",
       "      <th>8</th>\n",
       "      <td>john lewis broadband deserve positive review p...</td>\n",
       "      <td>\"2 years ago\"</td>\n",
       "      <td>0.272727</td>\n",
       "      <td>0.113636</td>\n",
       "      <td>0.030992</td>\n",
       "      <td>John Lewis</td>\n",
       "    </tr>\n",
       "    <tr>\n",
       "      <th>9</th>\n",
       "      <td>avoid avoid avoidthe worst broadband quality p...</td>\n",
       "      <td>\"2 years ago\"</td>\n",
       "      <td>0.426923</td>\n",
       "      <td>-0.171154</td>\n",
       "      <td>-0.073070</td>\n",
       "      <td>John Lewis</td>\n",
       "    </tr>\n",
       "    <tr>\n",
       "      <th>10</th>\n",
       "      <td>go live date delayed got broadband absolutely ...</td>\n",
       "      <td>\"2 years ago\"</td>\n",
       "      <td>0.551620</td>\n",
       "      <td>0.104930</td>\n",
       "      <td>0.057881</td>\n",
       "      <td>John Lewis</td>\n",
       "    </tr>\n",
       "    <tr>\n",
       "      <th>11</th>\n",
       "      <td>never try broadband use cheap router change ch...</td>\n",
       "      <td>\"2 years ago\"</td>\n",
       "      <td>0.355769</td>\n",
       "      <td>-0.015865</td>\n",
       "      <td>-0.005644</td>\n",
       "      <td>John Lewis</td>\n",
       "    </tr>\n",
       "    <tr>\n",
       "      <th>12</th>\n",
       "      <td>poor service year almost monthly occurrence po...</td>\n",
       "      <td>\"2 years ago\"</td>\n",
       "      <td>0.454321</td>\n",
       "      <td>-0.231173</td>\n",
       "      <td>-0.105027</td>\n",
       "      <td>John Lewis</td>\n",
       "    </tr>\n",
       "    <tr>\n",
       "      <th>13</th>\n",
       "      <td>short use themour phone line internet cut week...</td>\n",
       "      <td>\"2 years ago\"</td>\n",
       "      <td>0.459013</td>\n",
       "      <td>-0.102020</td>\n",
       "      <td>-0.046829</td>\n",
       "      <td>John Lewis</td>\n",
       "    </tr>\n",
       "    <tr>\n",
       "      <th>14</th>\n",
       "      <td>ordering broadband call start service ask rout...</td>\n",
       "      <td>\"3 years ago\"</td>\n",
       "      <td>0.497222</td>\n",
       "      <td>-0.377778</td>\n",
       "      <td>-0.187840</td>\n",
       "      <td>John Lewis</td>\n",
       "    </tr>\n",
       "    <tr>\n",
       "      <th>15</th>\n",
       "      <td>broadband operated plusnet also reliable amazi...</td>\n",
       "      <td>\"4 years ago\"</td>\n",
       "      <td>0.550000</td>\n",
       "      <td>0.400000</td>\n",
       "      <td>0.220000</td>\n",
       "      <td>John Lewis</td>\n",
       "    </tr>\n",
       "    <tr>\n",
       "      <th>16</th>\n",
       "      <td>must perfect supplier bleats anyone perhaps no...</td>\n",
       "      <td>\"6 years ago\"</td>\n",
       "      <td>1.000000</td>\n",
       "      <td>1.000000</td>\n",
       "      <td>1.000000</td>\n",
       "      <td>John Lewis</td>\n",
       "    </tr>\n",
       "  </tbody>\n",
       "</table>\n",
       "</div>"
      ],
      "text/plain": [
       "                                               Review             Date  \\\n",
       "0   currently plusnet broadband customer happy con...   \"2 months ago\"   \n",
       "1   avoid avoid avoid first john lewis broadband f...   \"8 months ago\"   \n",
       "2   taken money refund cancelled within 14 days si...   \"8 months ago\"   \n",
       "3   ordered broadband telephone recently rented pr...     \"1 year ago\"   \n",
       "4                 poor internet phone line went times     \"1 year ago\"   \n",
       "5   ordered broadband 5 weeks ago still heard anyt...     \"1 year ago\"   \n",
       "6   waited 3 weeks since applied john lewis broadb...     \"1 year ago\"   \n",
       "7   could give zero negative ratings would dire cu...     \"1 year ago\"   \n",
       "8   john lewis broadband deserve positive review p...    \"2 years ago\"   \n",
       "9   avoid avoid avoidthe worst broadband quality p...    \"2 years ago\"   \n",
       "10  go live date delayed got broadband absolutely ...    \"2 years ago\"   \n",
       "11  never try broadband use cheap router change ch...    \"2 years ago\"   \n",
       "12  poor service year almost monthly occurrence po...    \"2 years ago\"   \n",
       "13  short use themour phone line internet cut week...    \"2 years ago\"   \n",
       "14  ordering broadband call start service ask rout...    \"3 years ago\"   \n",
       "15  broadband operated plusnet also reliable amazi...    \"4 years ago\"   \n",
       "16  must perfect supplier bleats anyone perhaps no...    \"6 years ago\"   \n",
       "\n",
       "    Subjectivity  Polarity     Score      Client  \n",
       "0       0.487948  0.225551  0.110057  John Lewis  \n",
       "1       0.290320 -0.023737 -0.006891  John Lewis  \n",
       "2       0.348333  0.078333  0.027286  John Lewis  \n",
       "3       0.434722  0.041667  0.018113  John Lewis  \n",
       "4       0.329630 -0.251852 -0.083018  John Lewis  \n",
       "5       0.550000 -0.283333 -0.155833  John Lewis  \n",
       "6       0.500000 -0.287879 -0.143939  John Lewis  \n",
       "7       0.400000 -0.375000 -0.150000  John Lewis  \n",
       "8       0.272727  0.113636  0.030992  John Lewis  \n",
       "9       0.426923 -0.171154 -0.073070  John Lewis  \n",
       "10      0.551620  0.104930  0.057881  John Lewis  \n",
       "11      0.355769 -0.015865 -0.005644  John Lewis  \n",
       "12      0.454321 -0.231173 -0.105027  John Lewis  \n",
       "13      0.459013 -0.102020 -0.046829  John Lewis  \n",
       "14      0.497222 -0.377778 -0.187840  John Lewis  \n",
       "15      0.550000  0.400000  0.220000  John Lewis  \n",
       "16      1.000000  1.000000  1.000000  John Lewis  "
      ]
     },
     "execution_count": 15,
     "metadata": {},
     "output_type": "execute_result"
    }
   ],
   "source": [
    "# to lower case\n",
    "full_data['Review'] = full_data['Review'].apply(lambda x: str(x).lower())\n",
    "# expanding contracted words\n",
    "full_data['Review'] = full_data['Review'].apply(lambda x: cont_to_exp(x))\n",
    "# remove puntuation and special characters\n",
    "full_data['Review'] = full_data['Review'].apply(lambda x: re.sub(r'[^\\w ]+', \"\", x))\n",
    "#remove stopwords \n",
    "full_data['Review'] = full_data['Review'].apply(lambda x: ' '.join([t for t in x.split() if t not in stop_words]))\n",
    "data\n",
    "# word count and stop word count \n",
    "#data['word_count'] = data['Review'].apply(lambda x : len(str(x).split()))\n",
    "#data['stop_words_len'] = data['Review'].apply(lambda x: len([t for t in x.split() if t in stop_words]))"
   ]
  },
  {
   "cell_type": "code",
   "execution_count": 16,
   "id": "7a7c95b5",
   "metadata": {},
   "outputs": [
    {
     "name": "stdout",
     "output_type": "stream",
     "text": [
      "currently plusnet broadband customer happy continue using however contract ended plusnet give new customer cashback incentive considering switching john lewis effectively still plusnet knowledge theory switch john lewis service get current 75 black friday deal new customer anyone used providers presuming would fairly straightforward switch considering effectively isp\n",
      "avoid avoid avoid first john lewis broadband failed process order incurred increased charges old supplier john lewis broadband never actually got around pressing button connect broadband supposed thought id escaped incompetents moving new supplier jacked prices turns john lewis broadband actually disconnected broadband think still supplying customer service know respond online messages sent via account gong effect future relationship plusnet believe brains behind outfit damaging brand associated lot\n",
      "taken money refund cancelled within 14 days since lied make sale possible get service said would addition never spelt name email etc correctly unable correct taken 29 one give back ive spoken 10 customer reps one less willing help last many good grasp english want help manager promised call back\n",
      "ordered broadband telephone recently rented property paid 7500 front offered three dates engineer visit box would delivered beforehandneedless say received box engineer arrived went online account tried make contact firstly via mail box however gave received response despite promise reply within 24hrs also telephoned customer service number waited 3hours hold giving upjohn lewis stick retail venture areas cannot deliver oni stage never spend money anything related john lewiswaitrose group future\n",
      "poor internet phone line went times\n",
      "ordered broadband 5 weeks ago still heard anything writing review hold third day row try get cancel order moment 103 minutes hold determined get speak someone cancel tried online method say respond 24 hrs 6 days ago normally write reviews service rubbish music whilst ignored shocking staff\n",
      "waited 3 weeks since applied john lewis broadband shouldve gone live 19th every day phone tell 48 hours 40 hours later tell 48 hours et cetera et cetera asked speak supervisor manager tell dont exist basically keep putting terrible treat people isolation like\n",
      "could give zero negative ratings would dire customer service broadband speeds promised additionally promised engineer visit connection purposes signing engineer show taken day al losing day al phoned said even though received confirmation engineer visiting email order yet placed refund anything given internet connection delayed month please guys cut losses sign jl broadband\n",
      "john lewis broadband deserve positive review parents use never problems switching contract expires next month\n",
      "avoid avoid avoidthe worst broadband quality poorest service ive ever encounteredservice cut endlessly every day spent 4 months trying rectify speaking technical support 8 different people suggested 8 alternative fixes none worked currently process transferringrelative also experiencing similar pitifully slow interrupted broadband terminated contract despite jl agreeing phone waive early termination fee theyve immediately written 81 year old lady demanding early closure feesby way jl broadband plusnet jl fronting itthey worst company ive ever misfortune deal recommend avoid like plague\n",
      "go live date delayed got broadband absolutely shocking connection kept dropping time spent way much time talking technical support fair support staff pretty good send engineer look faults line found pretty funny cancelling first trying tell bound contract completely ignoring fact service fit purpose ended cancelling one week disastrous connection lack one majority time spending fortune mobile data broadband poor use mobile hotspot even refund full arguing phone line supplied faulty really let form john lewis never signed bt straight away free public wifi works better jls ever\n",
      "never try broadband use cheap router change channels regularly make work always drops internet upto hour long ring technical dept say expected least 3 4 drops every 3 days ive never sky anyone elsewe spend 130 week waitrose shopping buy clothes electricals john lewis said would cancel weekly orders sake 100 cancellation fee person said ability remove cancellation charge wont even though knew would loose 68000 year shopping jokewe taking would let know managers say loosing 8000 year brand keep 100 department\n",
      "poor service year almost monthly occurrence poor internet phone line issuesyet today phone line internet slow 6 weeks go till end contracttold line fault fixed end weekim cant stand poor service anymore im leaving earlypaying early exit fees dont care poor service\n",
      "short use themour phone line internet cut week engineer could find fault exchange sent engineer house without appointment one told us could send another 4 days engineer come week turned fault exchange along first engineer missed itcustomer service poor giving different excuses sending engineer impossible elevate complaintwhen line working get download speeds max 2mbs regularly every couple days moment gets dropped 02mbs call speed goes back normal bt must choking speed\n",
      "ordering broadband call start service ask router apparently forgotten sent one minute asking router received email stating broadband order cancelled nobody could tell happened wait 5 days anyone contacted said didnt know cancelled woud start order start apart im sorry offer compensation anything beg previous provider terminate broadbandphone recommended wish read reviews wasting time disappointed john lewis treating customers way\n",
      "broadband operated plusnet also reliable amazing really\n",
      "must perfect supplier bleats anyone perhaps nobody uses\n"
     ]
    }
   ],
   "source": [
    "comments = []\n",
    "for row in data['Review']:\n",
    "    comments.append(row)\n",
    "    print (row)"
   ]
  },
  {
   "cell_type": "code",
   "execution_count": 17,
   "id": "9500de47",
   "metadata": {},
   "outputs": [],
   "source": [
    "tb = str(comments)"
   ]
  },
  {
   "cell_type": "code",
   "execution_count": 18,
   "id": "54571da9",
   "metadata": {},
   "outputs": [
    {
     "data": {
      "image/png": "[encoded data removed]",
      "text/plain": [
       "<Figure size 432x288 with 1 Axes>"
      ]
     },
     "metadata": {
      "image/png": {
       "height": 306,
       "width": 382
      },
      "needs_background": "light"
     },
     "output_type": "display_data"
    },
    {
     "data": {
      "text/plain": [
       "<AxesSubplot:xlabel='Samples', ylabel='Counts'>"
      ]
     },
     "execution_count": 18,
     "metadata": {},
     "output_type": "execute_result"
    }
   ],
   "source": [
    "list1 = TextBlob(tb).word_counts\n",
    "fw_fd = nltk.FreqDist(list1)\n",
    "fw_fd.plot(15, cumulative=False)"
   ]
  },
  {
   "cell_type": "code",
   "execution_count": null,
   "id": "efcc9848",
   "metadata": {},
   "outputs": [],
   "source": []
  },
  {
   "cell_type": "code",
   "execution_count": 19,
   "id": "0ed2a39d",
   "metadata": {},
   "outputs": [
    {
     "data": {
      "text/html": [
       "<div>\n",
       "<style scoped>\n",
       "    .dataframe tbody tr th:only-of-type {\n",
       "        vertical-align: middle;\n",
       "    }\n",
       "\n",
       "    .dataframe tbody tr th {\n",
       "        vertical-align: top;\n",
       "    }\n",
       "\n",
       "    .dataframe thead th {\n",
       "        text-align: right;\n",
       "    }\n",
       "</style>\n",
       "<table border=\"1\" class=\"dataframe\">\n",
       "  <thead>\n",
       "    <tr style=\"text-align: right;\">\n",
       "      <th></th>\n",
       "      <th>Review</th>\n",
       "      <th>Date</th>\n",
       "      <th>Subjectivity</th>\n",
       "      <th>Polarity</th>\n",
       "      <th>Score</th>\n",
       "      <th>Client</th>\n",
       "      <th>Days</th>\n",
       "      <th>Datetime</th>\n",
       "      <th>Year</th>\n",
       "      <th>Package</th>\n",
       "      <th>Customer</th>\n",
       "      <th>Broadband</th>\n",
       "      <th>Overall</th>\n",
       "    </tr>\n",
       "  </thead>\n",
       "  <tbody>\n",
       "    <tr>\n",
       "      <th>16</th>\n",
       "      <td>must perfect supplier bleats anyone perhaps no...</td>\n",
       "      <td>\"6 years ago\"</td>\n",
       "      <td>1.000000</td>\n",
       "      <td>1.000000</td>\n",
       "      <td>1.000000</td>\n",
       "      <td>John Lewis</td>\n",
       "      <td>2190</td>\n",
       "      <td>2016-02-10 14:50:12.048768</td>\n",
       "      <td>2016</td>\n",
       "      <td>1</td>\n",
       "      <td>2</td>\n",
       "      <td>4</td>\n",
       "      <td>3</td>\n",
       "    </tr>\n",
       "    <tr>\n",
       "      <th>15</th>\n",
       "      <td>broadband operated plusnet also reliable amazi...</td>\n",
       "      <td>\"4 years ago\"</td>\n",
       "      <td>0.550000</td>\n",
       "      <td>0.400000</td>\n",
       "      <td>0.220000</td>\n",
       "      <td>John Lewis</td>\n",
       "      <td>1460</td>\n",
       "      <td>2018-02-09 14:50:12.048768</td>\n",
       "      <td>2018</td>\n",
       "      <td>3</td>\n",
       "      <td>4</td>\n",
       "      <td>2</td>\n",
       "      <td>2</td>\n",
       "    </tr>\n",
       "    <tr>\n",
       "      <th>14</th>\n",
       "      <td>ordering broadband call start service ask rout...</td>\n",
       "      <td>\"3 years ago\"</td>\n",
       "      <td>0.497222</td>\n",
       "      <td>-0.377778</td>\n",
       "      <td>-0.187840</td>\n",
       "      <td>John Lewis</td>\n",
       "      <td>1095</td>\n",
       "      <td>2019-02-09 14:50:12.048768</td>\n",
       "      <td>2019</td>\n",
       "      <td>1</td>\n",
       "      <td>4</td>\n",
       "      <td>1</td>\n",
       "      <td>3</td>\n",
       "    </tr>\n",
       "    <tr>\n",
       "      <th>13</th>\n",
       "      <td>short use themour phone line internet cut week...</td>\n",
       "      <td>\"2 years ago\"</td>\n",
       "      <td>0.459013</td>\n",
       "      <td>-0.102020</td>\n",
       "      <td>-0.046829</td>\n",
       "      <td>John Lewis</td>\n",
       "      <td>730</td>\n",
       "      <td>2020-02-09 14:50:12.048768</td>\n",
       "      <td>2020</td>\n",
       "      <td>3</td>\n",
       "      <td>3</td>\n",
       "      <td>4</td>\n",
       "      <td>1</td>\n",
       "    </tr>\n",
       "    <tr>\n",
       "      <th>12</th>\n",
       "      <td>poor service year almost monthly occurrence po...</td>\n",
       "      <td>\"2 years ago\"</td>\n",
       "      <td>0.454321</td>\n",
       "      <td>-0.231173</td>\n",
       "      <td>-0.105027</td>\n",
       "      <td>John Lewis</td>\n",
       "      <td>730</td>\n",
       "      <td>2020-02-09 14:50:12.048768</td>\n",
       "      <td>2020</td>\n",
       "      <td>1</td>\n",
       "      <td>3</td>\n",
       "      <td>3</td>\n",
       "      <td>3</td>\n",
       "    </tr>\n",
       "    <tr>\n",
       "      <th>11</th>\n",
       "      <td>never try broadband use cheap router change ch...</td>\n",
       "      <td>\"2 years ago\"</td>\n",
       "      <td>0.355769</td>\n",
       "      <td>-0.015865</td>\n",
       "      <td>-0.005644</td>\n",
       "      <td>John Lewis</td>\n",
       "      <td>730</td>\n",
       "      <td>2020-02-09 14:50:12.048768</td>\n",
       "      <td>2020</td>\n",
       "      <td>2</td>\n",
       "      <td>4</td>\n",
       "      <td>4</td>\n",
       "      <td>3</td>\n",
       "    </tr>\n",
       "    <tr>\n",
       "      <th>10</th>\n",
       "      <td>go live date delayed got broadband absolutely ...</td>\n",
       "      <td>\"2 years ago\"</td>\n",
       "      <td>0.551620</td>\n",
       "      <td>0.104930</td>\n",
       "      <td>0.057881</td>\n",
       "      <td>John Lewis</td>\n",
       "      <td>730</td>\n",
       "      <td>2020-02-09 14:50:12.048768</td>\n",
       "      <td>2020</td>\n",
       "      <td>2</td>\n",
       "      <td>3</td>\n",
       "      <td>4</td>\n",
       "      <td>2</td>\n",
       "    </tr>\n",
       "    <tr>\n",
       "      <th>9</th>\n",
       "      <td>avoid avoid avoidthe worst broadband quality p...</td>\n",
       "      <td>\"2 years ago\"</td>\n",
       "      <td>0.426923</td>\n",
       "      <td>-0.171154</td>\n",
       "      <td>-0.073070</td>\n",
       "      <td>John Lewis</td>\n",
       "      <td>730</td>\n",
       "      <td>2020-02-09 14:50:12.048768</td>\n",
       "      <td>2020</td>\n",
       "      <td>4</td>\n",
       "      <td>1</td>\n",
       "      <td>3</td>\n",
       "      <td>2</td>\n",
       "    </tr>\n",
       "    <tr>\n",
       "      <th>8</th>\n",
       "      <td>john lewis broadband deserve positive review p...</td>\n",
       "      <td>\"2 years ago\"</td>\n",
       "      <td>0.272727</td>\n",
       "      <td>0.113636</td>\n",
       "      <td>0.030992</td>\n",
       "      <td>John Lewis</td>\n",
       "      <td>730</td>\n",
       "      <td>2020-02-09 14:50:12.048768</td>\n",
       "      <td>2020</td>\n",
       "      <td>1</td>\n",
       "      <td>3</td>\n",
       "      <td>2</td>\n",
       "      <td>3</td>\n",
       "    </tr>\n",
       "    <tr>\n",
       "      <th>6</th>\n",
       "      <td>waited 3 weeks since applied john lewis broadb...</td>\n",
       "      <td>\"1 year ago\"</td>\n",
       "      <td>0.500000</td>\n",
       "      <td>-0.287879</td>\n",
       "      <td>-0.143939</td>\n",
       "      <td>John Lewis</td>\n",
       "      <td>365</td>\n",
       "      <td>2021-02-08 14:50:12.048768</td>\n",
       "      <td>2021</td>\n",
       "      <td>1</td>\n",
       "      <td>3</td>\n",
       "      <td>4</td>\n",
       "      <td>2</td>\n",
       "    </tr>\n",
       "    <tr>\n",
       "      <th>5</th>\n",
       "      <td>ordered broadband 5 weeks ago still heard anyt...</td>\n",
       "      <td>\"1 year ago\"</td>\n",
       "      <td>0.550000</td>\n",
       "      <td>-0.283333</td>\n",
       "      <td>-0.155833</td>\n",
       "      <td>John Lewis</td>\n",
       "      <td>365</td>\n",
       "      <td>2021-02-08 14:50:12.048768</td>\n",
       "      <td>2021</td>\n",
       "      <td>2</td>\n",
       "      <td>3</td>\n",
       "      <td>3</td>\n",
       "      <td>3</td>\n",
       "    </tr>\n",
       "    <tr>\n",
       "      <th>4</th>\n",
       "      <td>poor internet phone line went times</td>\n",
       "      <td>\"1 year ago\"</td>\n",
       "      <td>0.329630</td>\n",
       "      <td>-0.251852</td>\n",
       "      <td>-0.083018</td>\n",
       "      <td>John Lewis</td>\n",
       "      <td>365</td>\n",
       "      <td>2021-02-08 14:50:12.048768</td>\n",
       "      <td>2021</td>\n",
       "      <td>4</td>\n",
       "      <td>3</td>\n",
       "      <td>3</td>\n",
       "      <td>3</td>\n",
       "    </tr>\n",
       "    <tr>\n",
       "      <th>3</th>\n",
       "      <td>ordered broadband telephone recently rented pr...</td>\n",
       "      <td>\"1 year ago\"</td>\n",
       "      <td>0.434722</td>\n",
       "      <td>0.041667</td>\n",
       "      <td>0.018113</td>\n",
       "      <td>John Lewis</td>\n",
       "      <td>365</td>\n",
       "      <td>2021-02-08 14:50:12.048768</td>\n",
       "      <td>2021</td>\n",
       "      <td>1</td>\n",
       "      <td>2</td>\n",
       "      <td>1</td>\n",
       "      <td>3</td>\n",
       "    </tr>\n",
       "    <tr>\n",
       "      <th>7</th>\n",
       "      <td>could give zero negative ratings would dire cu...</td>\n",
       "      <td>\"1 year ago\"</td>\n",
       "      <td>0.400000</td>\n",
       "      <td>-0.375000</td>\n",
       "      <td>-0.150000</td>\n",
       "      <td>John Lewis</td>\n",
       "      <td>365</td>\n",
       "      <td>2021-02-08 14:50:12.048768</td>\n",
       "      <td>2021</td>\n",
       "      <td>3</td>\n",
       "      <td>3</td>\n",
       "      <td>3</td>\n",
       "      <td>2</td>\n",
       "    </tr>\n",
       "    <tr>\n",
       "      <th>2</th>\n",
       "      <td>taken money refund cancelled within 14 days si...</td>\n",
       "      <td>\"8 months ago\"</td>\n",
       "      <td>0.348333</td>\n",
       "      <td>0.078333</td>\n",
       "      <td>0.027286</td>\n",
       "      <td>John Lewis</td>\n",
       "      <td>248</td>\n",
       "      <td>2021-06-05 14:50:12.048768</td>\n",
       "      <td>2021</td>\n",
       "      <td>2</td>\n",
       "      <td>3</td>\n",
       "      <td>4</td>\n",
       "      <td>4</td>\n",
       "    </tr>\n",
       "    <tr>\n",
       "      <th>1</th>\n",
       "      <td>avoid avoid avoid first john lewis broadband f...</td>\n",
       "      <td>\"8 months ago\"</td>\n",
       "      <td>0.290320</td>\n",
       "      <td>-0.023737</td>\n",
       "      <td>-0.006891</td>\n",
       "      <td>John Lewis</td>\n",
       "      <td>248</td>\n",
       "      <td>2021-06-05 14:50:12.048768</td>\n",
       "      <td>2021</td>\n",
       "      <td>1</td>\n",
       "      <td>2</td>\n",
       "      <td>3</td>\n",
       "      <td>3</td>\n",
       "    </tr>\n",
       "    <tr>\n",
       "      <th>0</th>\n",
       "      <td>currently plusnet broadband customer happy con...</td>\n",
       "      <td>\"2 months ago\"</td>\n",
       "      <td>0.487948</td>\n",
       "      <td>0.225551</td>\n",
       "      <td>0.110057</td>\n",
       "      <td>John Lewis</td>\n",
       "      <td>62</td>\n",
       "      <td>2021-12-08 14:50:12.048768</td>\n",
       "      <td>2021</td>\n",
       "      <td>3</td>\n",
       "      <td>1</td>\n",
       "      <td>4</td>\n",
       "      <td>1</td>\n",
       "    </tr>\n",
       "  </tbody>\n",
       "</table>\n",
       "</div>"
      ],
      "text/plain": [
       "                                               Review             Date  \\\n",
       "16  must perfect supplier bleats anyone perhaps no...    \"6 years ago\"   \n",
       "15  broadband operated plusnet also reliable amazi...    \"4 years ago\"   \n",
       "14  ordering broadband call start service ask rout...    \"3 years ago\"   \n",
       "13  short use themour phone line internet cut week...    \"2 years ago\"   \n",
       "12  poor service year almost monthly occurrence po...    \"2 years ago\"   \n",
       "11  never try broadband use cheap router change ch...    \"2 years ago\"   \n",
       "10  go live date delayed got broadband absolutely ...    \"2 years ago\"   \n",
       "9   avoid avoid avoidthe worst broadband quality p...    \"2 years ago\"   \n",
       "8   john lewis broadband deserve positive review p...    \"2 years ago\"   \n",
       "6   waited 3 weeks since applied john lewis broadb...     \"1 year ago\"   \n",
       "5   ordered broadband 5 weeks ago still heard anyt...     \"1 year ago\"   \n",
       "4                 poor internet phone line went times     \"1 year ago\"   \n",
       "3   ordered broadband telephone recently rented pr...     \"1 year ago\"   \n",
       "7   could give zero negative ratings would dire cu...     \"1 year ago\"   \n",
       "2   taken money refund cancelled within 14 days si...   \"8 months ago\"   \n",
       "1   avoid avoid avoid first john lewis broadband f...   \"8 months ago\"   \n",
       "0   currently plusnet broadband customer happy con...   \"2 months ago\"   \n",
       "\n",
       "    Subjectivity  Polarity     Score      Client  Days  \\\n",
       "16      1.000000  1.000000  1.000000  John Lewis  2190   \n",
       "15      0.550000  0.400000  0.220000  John Lewis  1460   \n",
       "14      0.497222 -0.377778 -0.187840  John Lewis  1095   \n",
       "13      0.459013 -0.102020 -0.046829  John Lewis   730   \n",
       "12      0.454321 -0.231173 -0.105027  John Lewis   730   \n",
       "11      0.355769 -0.015865 -0.005644  John Lewis   730   \n",
       "10      0.551620  0.104930  0.057881  John Lewis   730   \n",
       "9       0.426923 -0.171154 -0.073070  John Lewis   730   \n",
       "8       0.272727  0.113636  0.030992  John Lewis   730   \n",
       "6       0.500000 -0.287879 -0.143939  John Lewis   365   \n",
       "5       0.550000 -0.283333 -0.155833  John Lewis   365   \n",
       "4       0.329630 -0.251852 -0.083018  John Lewis   365   \n",
       "3       0.434722  0.041667  0.018113  John Lewis   365   \n",
       "7       0.400000 -0.375000 -0.150000  John Lewis   365   \n",
       "2       0.348333  0.078333  0.027286  John Lewis   248   \n",
       "1       0.290320 -0.023737 -0.006891  John Lewis   248   \n",
       "0       0.487948  0.225551  0.110057  John Lewis    62   \n",
       "\n",
       "                     Datetime  Year  Package  Customer  Broadband  Overall  \n",
       "16 2016-02-10 14:50:12.048768  2016        1         2          4        3  \n",
       "15 2018-02-09 14:50:12.048768  2018        3         4          2        2  \n",
       "14 2019-02-09 14:50:12.048768  2019        1         4          1        3  \n",
       "13 2020-02-09 14:50:12.048768  2020        3         3          4        1  \n",
       "12 2020-02-09 14:50:12.048768  2020        1         3          3        3  \n",
       "11 2020-02-09 14:50:12.048768  2020        2         4          4        3  \n",
       "10 2020-02-09 14:50:12.048768  2020        2         3          4        2  \n",
       "9  2020-02-09 14:50:12.048768  2020        4         1          3        2  \n",
       "8  2020-02-09 14:50:12.048768  2020        1         3          2        3  \n",
       "6  2021-02-08 14:50:12.048768  2021        1         3          4        2  \n",
       "5  2021-02-08 14:50:12.048768  2021        2         3          3        3  \n",
       "4  2021-02-08 14:50:12.048768  2021        4         3          3        3  \n",
       "3  2021-02-08 14:50:12.048768  2021        1         2          1        3  \n",
       "7  2021-02-08 14:50:12.048768  2021        3         3          3        2  \n",
       "2  2021-06-05 14:50:12.048768  2021        2         3          4        4  \n",
       "1  2021-06-05 14:50:12.048768  2021        1         2          3        3  \n",
       "0  2021-12-08 14:50:12.048768  2021        3         1          4        1  "
      ]
     },
     "execution_count": 19,
     "metadata": {},
     "output_type": "execute_result"
    }
   ],
   "source": [
    "#converting date column into datetime\n",
    "d = {'months': 31, 'years':365, 'year':365}\n",
    "\n",
    "JLframe1 = JLframe['Date'].str.extract('(\\d+)\\s+(years|months|hours|days|year)', expand=True)\n",
    "JLframe['Days'] = JLframe1[0].astype(float).mul(JLframe1[1].map(d)).astype('Int64').astype(str)\n",
    "#JLframe['Unit'] = np.where(JLframe1[1].isin(['year', 'years','months', 'days']), ' days', ' ' + JLframe1[1])\n",
    "\n",
    "y_list = JLframe['Days']\n",
    "\n",
    "days_list = [int(i) for i in y_list]\n",
    "tday = datetime.today()\n",
    "dtdelta = [tday - relativedelta(days=x) for x in days_list]\n",
    "JLframe['Datetime'] = dtdelta\n",
    "\n",
    "# adding random numbers for review graphs - REMOVE IF ACTUAL REVIEW SCORES HAVE BEEN RETRIEVED\n",
    "JLframe = JLframe.sort_values(by=\"Datetime\")\n",
    "JLframe['Year'] = JLframe['Datetime'].dt.year\n",
    "JLframe['Package'] = np.random.randint(1, 5, JLframe.shape[0])\n",
    "JLframe['Customer'] = np.random.randint(1, 5, JLframe.shape[0])\n",
    "JLframe['Broadband'] = np.random.randint(1, 5, JLframe.shape[0])\n",
    "JLframe['Overall'] = np.random.randint(1, 5, JLframe.shape[0])\n",
    "\n",
    "\n",
    "JLframe"
   ]
  },
  {
   "cell_type": "code",
   "execution_count": 20,
   "id": "d0e38f22",
   "metadata": {},
   "outputs": [
    {
     "name": "stdout",
     "output_type": "stream",
     "text": [
      "   Year   Package  Customer  Broadband   Overall\n",
      "0  2016  1.000000  2.000000   4.000000  3.000000\n",
      "1  2018  3.000000  4.000000   2.000000  2.000000\n",
      "2  2019  1.000000  4.000000   1.000000  3.000000\n",
      "3  2020  2.166667  2.833333   3.333333  2.333333\n",
      "4  2021  2.125000  2.500000   3.125000  2.625000\n"
     ]
    }
   ],
   "source": [
    "JLframe2 = JLframe.groupby('Year').agg({'Package': 'mean', 'Customer': 'mean',\n",
    "                                       'Broadband': 'mean', 'Overall': 'mean'}).reset_index()\n",
    "print(JLframe2)\n",
    "\n",
    "year = JLframe2['Year']\n",
    "package = JLframe2['Package']\n",
    "customer = JLframe2['Customer']\n",
    "broadband = JLframe2['Broadband']\n",
    "overall = JLframe2['Overall']"
   ]
  },
  {
   "cell_type": "code",
   "execution_count": 21,
   "id": "d873a6c2",
   "metadata": {},
   "outputs": [
    {
     "data": {
      "image/png": "[encoded data removed]",
      "text/plain": [
       "<Figure size 432x288 with 1 Axes>"
      ]
     },
     "metadata": {
      "image/png": {
       "height": 316,
       "width": 418
      },
      "needs_background": "light"
     },
     "output_type": "display_data"
    },
    {
     "data": {
      "image/png": "[encoded data removed]",
      "text/plain": [
       "<Figure size 432x288 with 1 Axes>"
      ]
     },
     "metadata": {
      "image/png": {
       "height": 327,
       "width": 420
      },
      "needs_background": "light"
     },
     "output_type": "display_data"
    }
   ],
   "source": [
    "plt.bar(year, package, label =\"package rating\", color='b', align='center', bottom=overall+broadband+customer)\n",
    "plt.bar(year, customer, label=\"customer support\", color='r', align='center', bottom=overall+broadband)\n",
    "plt.bar(year, broadband, label=\"broadband speed\", color='black', align='center',bottom=overall)\n",
    "plt.bar(year, overall, label=\"overall satisfaction\", color='green', align='center')\n",
    "plt.title('Average Ratings per Year')\n",
    "plt.xlabel('Date')\n",
    "plt.ylabel('Rating score')\n",
    "plt.legend(loc='upper center', bbox_to_anchor=(0.5, -0.15),\n",
    "          ncol=3, fancybox=True, shadow=True)\n",
    "plt.show()\n",
    "\n",
    "plt.plot(year, package, label =\"package rating\", color='b')\n",
    "plt.plot(year, customer, label=\"customer support\", color='r')\n",
    "plt.plot(year, broadband, label=\"broadband speed\", color='black')\n",
    "plt.plot(year, overall, label=\"overall satisfaction\", color='green')\n",
    "plt.title('Average Ratings per Year')\n",
    "plt.xlabel('Date')\n",
    "plt.ylabel('Rating score')\n",
    "plt.legend(loc='upper center', bbox_to_anchor=(0.5, -0.2),\n",
    "          ncol=3, fancybox=True, shadow=True)\n",
    "plt.show()"
   ]
  },
  {
   "cell_type": "code",
   "execution_count": 25,
   "id": "6d8437bc",
   "metadata": {},
   "outputs": [
    {
     "data": {
      "text/html": [
       "        <script type=\"text/javascript\">\n",
       "        window.PlotlyConfig = {MathJaxConfig: 'local'};\n",
       "        if (window.MathJax) {MathJax.Hub.Config({SVG: {font: \"STIX-Web\"}});}\n",
       "        if (typeof require !== 'undefined') {\n",
       "        require.undef(\"plotly\");\n",
       "        requirejs.config({\n",
       "            paths: {\n",
       "                'plotly': ['https://cdn.plot.ly/plotly-2.2.0.min']\n",
       "            }\n",
       "        });\n",
       "        require(['plotly'], function(Plotly) {\n",
       "            window._Plotly = Plotly;\n",
       "        });\n",
       "        }\n",
       "        </script>\n",
       "        "
      ]
     },
     "metadata": {},
     "output_type": "display_data"
    },
    {
     "data": {
      "text/html": [
       "        <script type=\"text/javascript\">\n",
       "        window.PlotlyConfig = {MathJaxConfig: 'local'};\n",
       "        if (window.MathJax) {MathJax.Hub.Config({SVG: {font: \"STIX-Web\"}});}\n",
       "        if (typeof require !== 'undefined') {\n",
       "        require.undef(\"plotly\");\n",
       "        requirejs.config({\n",
       "            paths: {\n",
       "                'plotly': ['https://cdn.plot.ly/plotly-2.2.0.min']\n",
       "            }\n",
       "        });\n",
       "        require(['plotly'], function(Plotly) {\n",
       "            window._Plotly = Plotly;\n",
       "        });\n",
       "        }\n",
       "        </script>\n",
       "        "
      ]
     },
     "metadata": {},
     "output_type": "display_data"
    },
    {
     "data": {
      "text/html": [
       "        <script type=\"text/javascript\">\n",
       "        window.PlotlyConfig = {MathJaxConfig: 'local'};\n",
       "        if (window.MathJax) {MathJax.Hub.Config({SVG: {font: \"STIX-Web\"}});}\n",
       "        if (typeof require !== 'undefined') {\n",
       "        require.undef(\"plotly\");\n",
       "        requirejs.config({\n",
       "            paths: {\n",
       "                'plotly': ['https://cdn.plot.ly/plotly-2.2.0.min']\n",
       "            }\n",
       "        });\n",
       "        require(['plotly'], function(Plotly) {\n",
       "            window._Plotly = Plotly;\n",
       "        });\n",
       "        }\n",
       "        </script>\n",
       "        "
      ]
     },
     "metadata": {},
     "output_type": "display_data"
    },
    {
     "data": {
      "application/vnd.plotly.v1+json": {
       "config": {
        "linkText": "Export to plot.ly",
        "plotlyServerURL": "https://plot.ly",
        "showLink": true
       },
       "data": [
        {
         "histfunc": "count",
         "histnorm": "",
         "marker": {
          "color": "rgba(255, 153, 51, 1.0)",
          "line": {
           "color": "#000000",
           "width": 1.3
          }
         },
         "name": "Polarity",
         "nbinsx": 50,
         "opacity": 0.8,
         "orientation": "v",
         "type": "histogram",
         "x": [
          1,
          0.4,
          -0.37777777777777777,
          -0.10202020202020204,
          -0.23117283950617282,
          -0.015865384615384615,
          0.10492950336700335,
          -0.17115384615384613,
          0.11363636363636363,
          -0.2878787878787879,
          -0.2833333333333333,
          -0.2518518518518518,
          0.041666666666666664,
          -0.375,
          0.07833333333333334,
          -0.02373737373737374,
          0.2255509641873278
         ]
        }
       ],
       "layout": {
        "barmode": "overlay",
        "legend": {
         "bgcolor": "#F5F6F9",
         "font": {
          "color": "#4D5663"
         }
        },
        "paper_bgcolor": "#F5F6F9",
        "plot_bgcolor": "#F5F6F9",
        "template": {
         "data": {
          "bar": [
           {
            "error_x": {
             "color": "#2a3f5f"
            },
            "error_y": {
             "color": "#2a3f5f"
            },
            "marker": {
             "line": {
              "color": "#E5ECF6",
              "width": 0.5
             },
             "pattern": {
              "fillmode": "overlay",
              "size": 10,
              "solidity": 0.2
             }
            },
            "type": "bar"
           }
          ],
          "barpolar": [
           {
            "marker": {
             "line": {
              "color": "#E5ECF6",
              "width": 0.5
             },
             "pattern": {
              "fillmode": "overlay",
              "size": 10,
              "solidity": 0.2
             }
            },
            "type": "barpolar"
           }
          ],
          "carpet": [
           {
            "aaxis": {
             "endlinecolor": "#2a3f5f",
             "gridcolor": "white",
             "linecolor": "white",
             "minorgridcolor": "white",
             "startlinecolor": "#2a3f5f"
            },
            "baxis": {
             "endlinecolor": "#2a3f5f",
             "gridcolor": "white",
             "linecolor": "white",
             "minorgridcolor": "white",
             "startlinecolor": "#2a3f5f"
            },
            "type": "carpet"
           }
          ],
          "choropleth": [
           {
            "colorbar": {
             "outlinewidth": 0,
             "ticks": ""
            },
            "type": "choropleth"
           }
          ],
          "contour": [
           {
            "colorbar": {
             "outlinewidth": 0,
             "ticks": ""
            },
            "colorscale": [
             [
              0,
              "#0d0887"
             ],
             [
              0.1111111111111111,
              "#46039f"
             ],
             [
              0.2222222222222222,
              "#7201a8"
             ],
             [
              0.3333333333333333,
              "#9c179e"
             ],
             [
              0.4444444444444444,
              "#bd3786"
             ],
             [
              0.5555555555555556,
              "#d8576b"
             ],
             [
              0.6666666666666666,
              "#ed7953"
             ],
             [
              0.7777777777777778,
              "#fb9f3a"
             ],
             [
              0.8888888888888888,
              "#fdca26"
             ],
             [
              1,
              "#f0f921"
             ]
            ],
            "type": "contour"
           }
          ],
          "contourcarpet": [
           {
            "colorbar": {
             "outlinewidth": 0,
             "ticks": ""
            },
            "type": "contourcarpet"
           }
          ],
          "heatmap": [
           {
            "colorbar": {
             "outlinewidth": 0,
             "ticks": ""
            },
            "colorscale": [
             [
              0,
              "#0d0887"
             ],
             [
              0.1111111111111111,
              "#46039f"
             ],
             [
              0.2222222222222222,
              "#7201a8"
             ],
             [
              0.3333333333333333,
              "#9c179e"
             ],
             [
              0.4444444444444444,
              "#bd3786"
             ],
             [
              0.5555555555555556,
              "#d8576b"
             ],
             [
              0.6666666666666666,
              "#ed7953"
             ],
             [
              0.7777777777777778,
              "#fb9f3a"
             ],
             [
              0.8888888888888888,
              "#fdca26"
             ],
             [
              1,
              "#f0f921"
             ]
            ],
            "type": "heatmap"
           }
          ],
          "heatmapgl": [
           {
            "colorbar": {
             "outlinewidth": 0,
             "ticks": ""
            },
            "colorscale": [
             [
              0,
              "#0d0887"
             ],
             [
              0.1111111111111111,
              "#46039f"
             ],
             [
              0.2222222222222222,
              "#7201a8"
             ],
             [
              0.3333333333333333,
              "#9c179e"
             ],
             [
              0.4444444444444444,
              "#bd3786"
             ],
             [
              0.5555555555555556,
              "#d8576b"
             ],
             [
              0.6666666666666666,
              "#ed7953"
             ],
             [
              0.7777777777777778,
              "#fb9f3a"
             ],
             [
              0.8888888888888888,
              "#fdca26"
             ],
             [
              1,
              "#f0f921"
             ]
            ],
            "type": "heatmapgl"
           }
          ],
          "histogram": [
           {
            "marker": {
             "pattern": {
              "fillmode": "overlay",
              "size": 10,
              "solidity": 0.2
             }
            },
            "type": "histogram"
           }
          ],
          "histogram2d": [
           {
            "colorbar": {
             "outlinewidth": 0,
             "ticks": ""
            },
            "colorscale": [
             [
              0,
              "#0d0887"
             ],
             [
              0.1111111111111111,
              "#46039f"
             ],
             [
              0.2222222222222222,
              "#7201a8"
             ],
             [
              0.3333333333333333,
              "#9c179e"
             ],
             [
              0.4444444444444444,
              "#bd3786"
             ],
             [
              0.5555555555555556,
              "#d8576b"
             ],
             [
              0.6666666666666666,
              "#ed7953"
             ],
             [
              0.7777777777777778,
              "#fb9f3a"
             ],
             [
              0.8888888888888888,
              "#fdca26"
             ],
             [
              1,
              "#f0f921"
             ]
            ],
            "type": "histogram2d"
           }
          ],
          "histogram2dcontour": [
           {
            "colorbar": {
             "outlinewidth": 0,
             "ticks": ""
            },
            "colorscale": [
             [
              0,
              "#0d0887"
             ],
             [
              0.1111111111111111,
              "#46039f"
             ],
             [
              0.2222222222222222,
              "#7201a8"
             ],
             [
              0.3333333333333333,
              "#9c179e"
             ],
             [
              0.4444444444444444,
              "#bd3786"
             ],
             [
              0.5555555555555556,
              "#d8576b"
             ],
             [
              0.6666666666666666,
              "#ed7953"
             ],
             [
              0.7777777777777778,
              "#fb9f3a"
             ],
             [
              0.8888888888888888,
              "#fdca26"
             ],
             [
              1,
              "#f0f921"
             ]
            ],
            "type": "histogram2dcontour"
           }
          ],
          "mesh3d": [
           {
            "colorbar": {
             "outlinewidth": 0,
             "ticks": ""
            },
            "type": "mesh3d"
           }
          ],
          "parcoords": [
           {
            "line": {
             "colorbar": {
              "outlinewidth": 0,
              "ticks": ""
             }
            },
            "type": "parcoords"
           }
          ],
          "pie": [
           {
            "automargin": true,
            "type": "pie"
           }
          ],
          "scatter": [
           {
            "marker": {
             "colorbar": {
              "outlinewidth": 0,
              "ticks": ""
             }
            },
            "type": "scatter"
           }
          ],
          "scatter3d": [
           {
            "line": {
             "colorbar": {
              "outlinewidth": 0,
              "ticks": ""
             }
            },
            "marker": {
             "colorbar": {
              "outlinewidth": 0,
              "ticks": ""
             }
            },
            "type": "scatter3d"
           }
          ],
          "scattercarpet": [
           {
            "marker": {
             "colorbar": {
              "outlinewidth": 0,
              "ticks": ""
             }
            },
            "type": "scattercarpet"
           }
          ],
          "scattergeo": [
           {
            "marker": {
             "colorbar": {
              "outlinewidth": 0,
              "ticks": ""
             }
            },
            "type": "scattergeo"
           }
          ],
          "scattergl": [
           {
            "marker": {
             "colorbar": {
              "outlinewidth": 0,
              "ticks": ""
             }
            },
            "type": "scattergl"
           }
          ],
          "scattermapbox": [
           {
            "marker": {
             "colorbar": {
              "outlinewidth": 0,
              "ticks": ""
             }
            },
            "type": "scattermapbox"
           }
          ],
          "scatterpolar": [
           {
            "marker": {
             "colorbar": {
              "outlinewidth": 0,
              "ticks": ""
             }
            },
            "type": "scatterpolar"
           }
          ],
          "scatterpolargl": [
           {
            "marker": {
             "colorbar": {
              "outlinewidth": 0,
              "ticks": ""
             }
            },
            "type": "scatterpolargl"
           }
          ],
          "scatterternary": [
           {
            "marker": {
             "colorbar": {
              "outlinewidth": 0,
              "ticks": ""
             }
            },
            "type": "scatterternary"
           }
          ],
          "surface": [
           {
            "colorbar": {
             "outlinewidth": 0,
             "ticks": ""
            },
            "colorscale": [
             [
              0,
              "#0d0887"
             ],
             [
              0.1111111111111111,
              "#46039f"
             ],
             [
              0.2222222222222222,
              "#7201a8"
             ],
             [
              0.3333333333333333,
              "#9c179e"
             ],
             [
              0.4444444444444444,
              "#bd3786"
             ],
             [
              0.5555555555555556,
              "#d8576b"
             ],
             [
              0.6666666666666666,
              "#ed7953"
             ],
             [
              0.7777777777777778,
              "#fb9f3a"
             ],
             [
              0.8888888888888888,
              "#fdca26"
             ],
             [
              1,
              "#f0f921"
             ]
            ],
            "type": "surface"
           }
          ],
          "table": [
           {
            "cells": {
             "fill": {
              "color": "#EBF0F8"
             },
             "line": {
              "color": "white"
             }
            },
            "header": {
             "fill": {
              "color": "#C8D4E3"
             },
             "line": {
              "color": "white"
             }
            },
            "type": "table"
           }
          ]
         },
         "layout": {
          "annotationdefaults": {
           "arrowcolor": "#2a3f5f",
           "arrowhead": 0,
           "arrowwidth": 1
          },
          "autotypenumbers": "strict",
          "coloraxis": {
           "colorbar": {
            "outlinewidth": 0,
            "ticks": ""
           }
          },
          "colorscale": {
           "diverging": [
            [
             0,
             "#8e0152"
            ],
            [
             0.1,
             "#c51b7d"
            ],
            [
             0.2,
             "#de77ae"
            ],
            [
             0.3,
             "#f1b6da"
            ],
            [
             0.4,
             "#fde0ef"
            ],
            [
             0.5,
             "#f7f7f7"
            ],
            [
             0.6,
             "#e6f5d0"
            ],
            [
             0.7,
             "#b8e186"
            ],
            [
             0.8,
             "#7fbc41"
            ],
            [
             0.9,
             "#4d9221"
            ],
            [
             1,
             "#276419"
            ]
           ],
           "sequential": [
            [
             0,
             "#0d0887"
            ],
            [
             0.1111111111111111,
             "#46039f"
            ],
            [
             0.2222222222222222,
             "#7201a8"
            ],
            [
             0.3333333333333333,
             "#9c179e"
            ],
            [
             0.4444444444444444,
             "#bd3786"
            ],
            [
             0.5555555555555556,
             "#d8576b"
            ],
            [
             0.6666666666666666,
             "#ed7953"
            ],
            [
             0.7777777777777778,
             "#fb9f3a"
            ],
            [
             0.8888888888888888,
             "#fdca26"
            ],
            [
             1,
             "#f0f921"
            ]
           ],
           "sequentialminus": [
            [
             0,
             "#0d0887"
            ],
            [
             0.1111111111111111,
             "#46039f"
            ],
            [
             0.2222222222222222,
             "#7201a8"
            ],
            [
             0.3333333333333333,
             "#9c179e"
            ],
            [
             0.4444444444444444,
             "#bd3786"
            ],
            [
             0.5555555555555556,
             "#d8576b"
            ],
            [
             0.6666666666666666,
             "#ed7953"
            ],
            [
             0.7777777777777778,
             "#fb9f3a"
            ],
            [
             0.8888888888888888,
             "#fdca26"
            ],
            [
             1,
             "#f0f921"
            ]
           ]
          },
          "colorway": [
           "#636efa",
           "#EF553B",
           "#00cc96",
           "#ab63fa",
           "#FFA15A",
           "#19d3f3",
           "#FF6692",
           "#B6E880",
           "#FF97FF",
           "#FECB52"
          ],
          "font": {
           "color": "#2a3f5f"
          },
          "geo": {
           "bgcolor": "white",
           "lakecolor": "white",
           "landcolor": "#E5ECF6",
           "showlakes": true,
           "showland": true,
           "subunitcolor": "white"
          },
          "hoverlabel": {
           "align": "left"
          },
          "hovermode": "closest",
          "mapbox": {
           "style": "light"
          },
          "paper_bgcolor": "white",
          "plot_bgcolor": "#E5ECF6",
          "polar": {
           "angularaxis": {
            "gridcolor": "white",
            "linecolor": "white",
            "ticks": ""
           },
           "bgcolor": "#E5ECF6",
           "radialaxis": {
            "gridcolor": "white",
            "linecolor": "white",
            "ticks": ""
           }
          },
          "scene": {
           "xaxis": {
            "backgroundcolor": "#E5ECF6",
            "gridcolor": "white",
            "gridwidth": 2,
            "linecolor": "white",
            "showbackground": true,
            "ticks": "",
            "zerolinecolor": "white"
           },
           "yaxis": {
            "backgroundcolor": "#E5ECF6",
            "gridcolor": "white",
            "gridwidth": 2,
            "linecolor": "white",
            "showbackground": true,
            "ticks": "",
            "zerolinecolor": "white"
           },
           "zaxis": {
            "backgroundcolor": "#E5ECF6",
            "gridcolor": "white",
            "gridwidth": 2,
            "linecolor": "white",
            "showbackground": true,
            "ticks": "",
            "zerolinecolor": "white"
           }
          },
          "shapedefaults": {
           "line": {
            "color": "#2a3f5f"
           }
          },
          "ternary": {
           "aaxis": {
            "gridcolor": "white",
            "linecolor": "white",
            "ticks": ""
           },
           "baxis": {
            "gridcolor": "white",
            "linecolor": "white",
            "ticks": ""
           },
           "bgcolor": "#E5ECF6",
           "caxis": {
            "gridcolor": "white",
            "linecolor": "white",
            "ticks": ""
           }
          },
          "title": {
           "x": 0.05
          },
          "xaxis": {
           "automargin": true,
           "gridcolor": "white",
           "linecolor": "white",
           "ticks": "",
           "title": {
            "standoff": 15
           },
           "zerolinecolor": "white",
           "zerolinewidth": 2
          },
          "yaxis": {
           "automargin": true,
           "gridcolor": "white",
           "linecolor": "white",
           "ticks": "",
           "title": {
            "standoff": 15
           },
           "zerolinecolor": "white",
           "zerolinewidth": 2
          }
         }
        },
        "title": {
         "font": {
          "color": "#4D5663"
         },
         "text": "Sentiment Polarity Distribution"
        },
        "xaxis": {
         "gridcolor": "#E1E5ED",
         "linecolor": "black",
         "showgrid": true,
         "tickfont": {
          "color": "#4D5663"
         },
         "title": {
          "font": {
           "color": "#4D5663"
          },
          "text": "polarity"
         },
         "zerolinecolor": "#E1E5ED"
        },
        "yaxis": {
         "gridcolor": "#E1E5ED",
         "linecolor": "black",
         "showgrid": true,
         "tickfont": {
          "color": "#4D5663"
         },
         "title": {
          "font": {
           "color": "#4D5663"
          },
          "text": "count"
         },
         "zerolinecolor": "#E1E5ED"
        }
       }
      },
      "text/html": [
       "<div>                            <div id=\"52d93751-7b18-4c9d-8252-343b563f29b1\" class=\"plotly-graph-div\" style=\"height:525px; width:100%;\"></div>            <script type=\"text/javascript\">                require([\"plotly\"], function(Plotly) {                    window.PLOTLYENV=window.PLOTLYENV || {};\n",
       "                    window.PLOTLYENV.BASE_URL='https://plot.ly';                                    if (document.getElementById(\"52d93751-7b18-4c9d-8252-343b563f29b1\")) {                    Plotly.newPlot(                        \"52d93751-7b18-4c9d-8252-343b563f29b1\",                        [{\"histfunc\":\"count\",\"histnorm\":\"\",\"marker\":{\"color\":\"rgba(255, 153, 51, 1.0)\",\"line\":{\"color\":\"#000000\",\"width\":1.3}},\"name\":\"Polarity\",\"nbinsx\":50,\"opacity\":0.8,\"orientation\":\"v\",\"type\":\"histogram\",\"x\":[1.0,0.4,-0.37777777777777777,-0.10202020202020204,-0.23117283950617282,-0.015865384615384615,0.10492950336700335,-0.17115384615384613,0.11363636363636363,-0.2878787878787879,-0.2833333333333333,-0.2518518518518518,0.041666666666666664,-0.375,0.07833333333333334,-0.02373737373737374,0.2255509641873278]}],                        {\"barmode\":\"overlay\",\"legend\":{\"bgcolor\":\"#F5F6F9\",\"font\":{\"color\":\"#4D5663\"}},\"paper_bgcolor\":\"#F5F6F9\",\"plot_bgcolor\":\"#F5F6F9\",\"template\":{\"data\":{\"bar\":[{\"error_x\":{\"color\":\"#2a3f5f\"},\"error_y\":{\"color\":\"#2a3f5f\"},\"marker\":{\"line\":{\"color\":\"#E5ECF6\",\"width\":0.5},\"pattern\":{\"fillmode\":\"overlay\",\"size\":10,\"solidity\":0.2}},\"type\":\"bar\"}],\"barpolar\":[{\"marker\":{\"line\":{\"color\":\"#E5ECF6\",\"width\":0.5},\"pattern\":{\"fillmode\":\"overlay\",\"size\":10,\"solidity\":0.2}},\"type\":\"barpolar\"}],\"carpet\":[{\"aaxis\":{\"endlinecolor\":\"#2a3f5f\",\"gridcolor\":\"white\",\"linecolor\":\"white\",\"minorgridcolor\":\"white\",\"startlinecolor\":\"#2a3f5f\"},\"baxis\":{\"endlinecolor\":\"#2a3f5f\",\"gridcolor\":\"white\",\"linecolor\":\"white\",\"minorgridcolor\":\"white\",\"startlinecolor\":\"#2a3f5f\"},\"type\":\"carpet\"}],\"choropleth\":[{\"colorbar\":{\"outlinewidth\":0,\"ticks\":\"\"},\"type\":\"choropleth\"}],\"contour\":[{\"colorbar\":{\"outlinewidth\":0,\"ticks\":\"\"},\"colorscale\":[[0.0,\"#0d0887\"],[0.1111111111111111,\"#46039f\"],[0.2222222222222222,\"#7201a8\"],[0.3333333333333333,\"#9c179e\"],[0.4444444444444444,\"#bd3786\"],[0.5555555555555556,\"#d8576b\"],[0.6666666666666666,\"#ed7953\"],[0.7777777777777778,\"#fb9f3a\"],[0.8888888888888888,\"#fdca26\"],[1.0,\"#f0f921\"]],\"type\":\"contour\"}],\"contourcarpet\":[{\"colorbar\":{\"outlinewidth\":0,\"ticks\":\"\"},\"type\":\"contourcarpet\"}],\"heatmap\":[{\"colorbar\":{\"outlinewidth\":0,\"ticks\":\"\"},\"colorscale\":[[0.0,\"#0d0887\"],[0.1111111111111111,\"#46039f\"],[0.2222222222222222,\"#7201a8\"],[0.3333333333333333,\"#9c179e\"],[0.4444444444444444,\"#bd3786\"],[0.5555555555555556,\"#d8576b\"],[0.6666666666666666,\"#ed7953\"],[0.7777777777777778,\"#fb9f3a\"],[0.8888888888888888,\"#fdca26\"],[1.0,\"#f0f921\"]],\"type\":\"heatmap\"}],\"heatmapgl\":[{\"colorbar\":{\"outlinewidth\":0,\"ticks\":\"\"},\"colorscale\":[[0.0,\"#0d0887\"],[0.1111111111111111,\"#46039f\"],[0.2222222222222222,\"#7201a8\"],[0.3333333333333333,\"#9c179e\"],[0.4444444444444444,\"#bd3786\"],[0.5555555555555556,\"#d8576b\"],[0.6666666666666666,\"#ed7953\"],[0.7777777777777778,\"#fb9f3a\"],[0.8888888888888888,\"#fdca26\"],[1.0,\"#f0f921\"]],\"type\":\"heatmapgl\"}],\"histogram\":[{\"marker\":{\"pattern\":{\"fillmode\":\"overlay\",\"size\":10,\"solidity\":0.2}},\"type\":\"histogram\"}],\"histogram2d\":[{\"colorbar\":{\"outlinewidth\":0,\"ticks\":\"\"},\"colorscale\":[[0.0,\"#0d0887\"],[0.1111111111111111,\"#46039f\"],[0.2222222222222222,\"#7201a8\"],[0.3333333333333333,\"#9c179e\"],[0.4444444444444444,\"#bd3786\"],[0.5555555555555556,\"#d8576b\"],[0.6666666666666666,\"#ed7953\"],[0.7777777777777778,\"#fb9f3a\"],[0.8888888888888888,\"#fdca26\"],[1.0,\"#f0f921\"]],\"type\":\"histogram2d\"}],\"histogram2dcontour\":[{\"colorbar\":{\"outlinewidth\":0,\"ticks\":\"\"},\"colorscale\":[[0.0,\"#0d0887\"],[0.1111111111111111,\"#46039f\"],[0.2222222222222222,\"#7201a8\"],[0.3333333333333333,\"#9c179e\"],[0.4444444444444444,\"#bd3786\"],[0.5555555555555556,\"#d8576b\"],[0.6666666666666666,\"#ed7953\"],[0.7777777777777778,\"#fb9f3a\"],[0.8888888888888888,\"#fdca26\"],[1.0,\"#f0f921\"]],\"type\":\"histogram2dcontour\"}],\"mesh3d\":[{\"colorbar\":{\"outlinewidth\":0,\"ticks\":\"\"},\"type\":\"mesh3d\"}],\"parcoords\":[{\"line\":{\"colorbar\":{\"outlinewidth\":0,\"ticks\":\"\"}},\"type\":\"parcoords\"}],\"pie\":[{\"automargin\":true,\"type\":\"pie\"}],\"scatter\":[{\"marker\":{\"colorbar\":{\"outlinewidth\":0,\"ticks\":\"\"}},\"type\":\"scatter\"}],\"scatter3d\":[{\"line\":{\"colorbar\":{\"outlinewidth\":0,\"ticks\":\"\"}},\"marker\":{\"colorbar\":{\"outlinewidth\":0,\"ticks\":\"\"}},\"type\":\"scatter3d\"}],\"scattercarpet\":[{\"marker\":{\"colorbar\":{\"outlinewidth\":0,\"ticks\":\"\"}},\"type\":\"scattercarpet\"}],\"scattergeo\":[{\"marker\":{\"colorbar\":{\"outlinewidth\":0,\"ticks\":\"\"}},\"type\":\"scattergeo\"}],\"scattergl\":[{\"marker\":{\"colorbar\":{\"outlinewidth\":0,\"ticks\":\"\"}},\"type\":\"scattergl\"}],\"scattermapbox\":[{\"marker\":{\"colorbar\":{\"outlinewidth\":0,\"ticks\":\"\"}},\"type\":\"scattermapbox\"}],\"scatterpolar\":[{\"marker\":{\"colorbar\":{\"outlinewidth\":0,\"ticks\":\"\"}},\"type\":\"scatterpolar\"}],\"scatterpolargl\":[{\"marker\":{\"colorbar\":{\"outlinewidth\":0,\"ticks\":\"\"}},\"type\":\"scatterpolargl\"}],\"scatterternary\":[{\"marker\":{\"colorbar\":{\"outlinewidth\":0,\"ticks\":\"\"}},\"type\":\"scatterternary\"}],\"surface\":[{\"colorbar\":{\"outlinewidth\":0,\"ticks\":\"\"},\"colorscale\":[[0.0,\"#0d0887\"],[0.1111111111111111,\"#46039f\"],[0.2222222222222222,\"#7201a8\"],[0.3333333333333333,\"#9c179e\"],[0.4444444444444444,\"#bd3786\"],[0.5555555555555556,\"#d8576b\"],[0.6666666666666666,\"#ed7953\"],[0.7777777777777778,\"#fb9f3a\"],[0.8888888888888888,\"#fdca26\"],[1.0,\"#f0f921\"]],\"type\":\"surface\"}],\"table\":[{\"cells\":{\"fill\":{\"color\":\"#EBF0F8\"},\"line\":{\"color\":\"white\"}},\"header\":{\"fill\":{\"color\":\"#C8D4E3\"},\"line\":{\"color\":\"white\"}},\"type\":\"table\"}]},\"layout\":{\"annotationdefaults\":{\"arrowcolor\":\"#2a3f5f\",\"arrowhead\":0,\"arrowwidth\":1},\"autotypenumbers\":\"strict\",\"coloraxis\":{\"colorbar\":{\"outlinewidth\":0,\"ticks\":\"\"}},\"colorscale\":{\"diverging\":[[0,\"#8e0152\"],[0.1,\"#c51b7d\"],[0.2,\"#de77ae\"],[0.3,\"#f1b6da\"],[0.4,\"#fde0ef\"],[0.5,\"#f7f7f7\"],[0.6,\"#e6f5d0\"],[0.7,\"#b8e186\"],[0.8,\"#7fbc41\"],[0.9,\"#4d9221\"],[1,\"#276419\"]],\"sequential\":[[0.0,\"#0d0887\"],[0.1111111111111111,\"#46039f\"],[0.2222222222222222,\"#7201a8\"],[0.3333333333333333,\"#9c179e\"],[0.4444444444444444,\"#bd3786\"],[0.5555555555555556,\"#d8576b\"],[0.6666666666666666,\"#ed7953\"],[0.7777777777777778,\"#fb9f3a\"],[0.8888888888888888,\"#fdca26\"],[1.0,\"#f0f921\"]],\"sequentialminus\":[[0.0,\"#0d0887\"],[0.1111111111111111,\"#46039f\"],[0.2222222222222222,\"#7201a8\"],[0.3333333333333333,\"#9c179e\"],[0.4444444444444444,\"#bd3786\"],[0.5555555555555556,\"#d8576b\"],[0.6666666666666666,\"#ed7953\"],[0.7777777777777778,\"#fb9f3a\"],[0.8888888888888888,\"#fdca26\"],[1.0,\"#f0f921\"]]},\"colorway\":[\"#636efa\",\"#EF553B\",\"#00cc96\",\"#ab63fa\",\"#FFA15A\",\"#19d3f3\",\"#FF6692\",\"#B6E880\",\"#FF97FF\",\"#FECB52\"],\"font\":{\"color\":\"#2a3f5f\"},\"geo\":{\"bgcolor\":\"white\",\"lakecolor\":\"white\",\"landcolor\":\"#E5ECF6\",\"showlakes\":true,\"showland\":true,\"subunitcolor\":\"white\"},\"hoverlabel\":{\"align\":\"left\"},\"hovermode\":\"closest\",\"mapbox\":{\"style\":\"light\"},\"paper_bgcolor\":\"white\",\"plot_bgcolor\":\"#E5ECF6\",\"polar\":{\"angularaxis\":{\"gridcolor\":\"white\",\"linecolor\":\"white\",\"ticks\":\"\"},\"bgcolor\":\"#E5ECF6\",\"radialaxis\":{\"gridcolor\":\"white\",\"linecolor\":\"white\",\"ticks\":\"\"}},\"scene\":{\"xaxis\":{\"backgroundcolor\":\"#E5ECF6\",\"gridcolor\":\"white\",\"gridwidth\":2,\"linecolor\":\"white\",\"showbackground\":true,\"ticks\":\"\",\"zerolinecolor\":\"white\"},\"yaxis\":{\"backgroundcolor\":\"#E5ECF6\",\"gridcolor\":\"white\",\"gridwidth\":2,\"linecolor\":\"white\",\"showbackground\":true,\"ticks\":\"\",\"zerolinecolor\":\"white\"},\"zaxis\":{\"backgroundcolor\":\"#E5ECF6\",\"gridcolor\":\"white\",\"gridwidth\":2,\"linecolor\":\"white\",\"showbackground\":true,\"ticks\":\"\",\"zerolinecolor\":\"white\"}},\"shapedefaults\":{\"line\":{\"color\":\"#2a3f5f\"}},\"ternary\":{\"aaxis\":{\"gridcolor\":\"white\",\"linecolor\":\"white\",\"ticks\":\"\"},\"baxis\":{\"gridcolor\":\"white\",\"linecolor\":\"white\",\"ticks\":\"\"},\"bgcolor\":\"#E5ECF6\",\"caxis\":{\"gridcolor\":\"white\",\"linecolor\":\"white\",\"ticks\":\"\"}},\"title\":{\"x\":0.05},\"xaxis\":{\"automargin\":true,\"gridcolor\":\"white\",\"linecolor\":\"white\",\"ticks\":\"\",\"title\":{\"standoff\":15},\"zerolinecolor\":\"white\",\"zerolinewidth\":2},\"yaxis\":{\"automargin\":true,\"gridcolor\":\"white\",\"linecolor\":\"white\",\"ticks\":\"\",\"title\":{\"standoff\":15},\"zerolinecolor\":\"white\",\"zerolinewidth\":2}}},\"title\":{\"font\":{\"color\":\"#4D5663\"},\"text\":\"Sentiment Polarity Distribution\"},\"xaxis\":{\"gridcolor\":\"#E1E5ED\",\"linecolor\":\"black\",\"showgrid\":true,\"tickfont\":{\"color\":\"#4D5663\"},\"title\":{\"font\":{\"color\":\"#4D5663\"},\"text\":\"polarity\"},\"zerolinecolor\":\"#E1E5ED\"},\"yaxis\":{\"gridcolor\":\"#E1E5ED\",\"linecolor\":\"black\",\"showgrid\":true,\"tickfont\":{\"color\":\"#4D5663\"},\"title\":{\"font\":{\"color\":\"#4D5663\"},\"text\":\"count\"},\"zerolinecolor\":\"#E1E5ED\"}},                        {\"showLink\": true, \"linkText\": \"Export to plot.ly\", \"plotlyServerURL\": \"https://plot.ly\", \"responsive\": true}                    ).then(function(){\n",
       "                            \n",
       "var gd = document.getElementById('52d93751-7b18-4c9d-8252-343b563f29b1');\n",
       "var x = new MutationObserver(function (mutations, observer) {{\n",
       "        var display = window.getComputedStyle(gd).display;\n",
       "        if (!display || display === 'none') {{\n",
       "            console.log([gd, 'removed!']);\n",
       "            Plotly.purge(gd);\n",
       "            observer.disconnect();\n",
       "        }}\n",
       "}});\n",
       "\n",
       "// Listen for the removal of the full notebook cells\n",
       "var notebookContainer = gd.closest('#notebook-container');\n",
       "if (notebookContainer) {{\n",
       "    x.observe(notebookContainer, {childList: true});\n",
       "}}\n",
       "\n",
       "// Listen for the clearing of the current output cell\n",
       "var outputEl = gd.closest('.output');\n",
       "if (outputEl) {{\n",
       "    x.observe(outputEl, {childList: true});\n",
       "}}\n",
       "\n",
       "                        })                };                });            </script>        </div>"
      ]
     },
     "metadata": {},
     "output_type": "display_data"
    }
   ],
   "source": [
    "#iplot of count of polarities\n",
    "\n",
    "import cufflinks as cf\n",
    "from plotly.offline import download_plotlyjs, init_notebook_mode, plot, iplot\n",
    "init_notebook_mode(connected=True)\n",
    "\n",
    "init_notebook_mode(connected=True)\n",
    "cf.go_offline()\n",
    "\n",
    "\n",
    "JLframe['Polarity'].iplot(\n",
    "    kind='hist',\n",
    "    bins=50,\n",
    "    xTitle='polarity',\n",
    "    linecolor='black',\n",
    "    yTitle='count',\n",
    "    title='Sentiment Polarity Distribution')\n"
   ]
  },
  {
   "cell_type": "code",
   "execution_count": null,
   "id": "9a2d8c8f",
   "metadata": {},
   "outputs": [],
   "source": []
  }
 ],
 "metadata": {
  "kernelspec": {
   "display_name": "Python 3 (ipykernel)",
   "language": "python",
   "name": "python3"
  },
  "language_info": {
   "codemirror_mode": {
    "name": "ipython",
    "version": 3
   },
   "file_extension": ".py",
   "mimetype": "text/x-python",
   "name": "python",
   "nbconvert_exporter": "python",
   "pygments_lexer": "ipython3",
   "version": "3.9.7"
  }
 },
 "nbformat": 4,
 "nbformat_minor": 5
}
